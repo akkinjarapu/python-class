{
 "cells": [
  {
   "cell_type": "markdown",
   "source": [
    "## Classes and Objects"
   ],
   "metadata": {}
  },
  {
   "cell_type": "markdown",
   "source": [
    "## 1. Object packages set of data values (state) and a set of operations in the form of methods (behavior) in a single entity (encapsulation)"
   ],
   "metadata": {}
  },
  {
   "cell_type": "markdown",
   "source": [
    "## 2. A class is a blueprint for each of the objects of that class"
   ],
   "metadata": {}
  },
  {
   "cell_type": "markdown",
   "source": [
    "## For illustration we will develop course management application"
   ],
   "metadata": {}
  },
  {
   "cell_type": "code",
   "execution_count": 3,
   "source": [
    "class Student:\r\n",
    "    def __init__(self, name, number) -> None:\r\n",
    "        self.name = name\r\n",
    "        self.number = number\r\n",
    "\r\n",
    "    def __str__(self) -> str:\r\n",
    "        return f'Student[name = {self.name}, number = {self.number}]'"
   ],
   "outputs": [],
   "metadata": {}
  },
  {
   "cell_type": "code",
   "execution_count": 10,
   "source": [
    "s = Student('Pravallika', 8)\r\n",
    "print(s)"
   ],
   "outputs": [
    {
     "output_type": "stream",
     "name": "stdout",
     "text": [
      "Student[name = Pravallika, number = 8]\n"
     ]
    }
   ],
   "metadata": {}
  },
  {
   "cell_type": "code",
   "execution_count": 7,
   "source": [
    "class Student:\r\n",
    "    def __init__(self, name, number) -> None:\r\n",
    "        self.name = name\r\n",
    "        self.number = number\r\n",
    "\r\n",
    "    def __str__(self) -> str:\r\n",
    "        return f'Student[name = {self.name}, number = {self.number}]'\r\n",
    "\r\n",
    "    def getName(self) -> str:\r\n",
    "        return self.name"
   ],
   "outputs": [],
   "metadata": {}
  },
  {
   "cell_type": "code",
   "execution_count": 11,
   "source": [
    "s = Student('Pravallika', 6)\r\n",
    "s.getName()"
   ],
   "outputs": [
    {
     "output_type": "execute_result",
     "data": {
      "text/plain": [
       "'Pravallika'"
      ]
     },
     "metadata": {},
     "execution_count": 11
    }
   ],
   "metadata": {}
  },
  {
   "cell_type": "code",
   "execution_count": 30,
   "source": [
    "class Student:\r\n",
    "    def __init__(self, name, number) -> None:\r\n",
    "        self.name = name\r\n",
    "        self.number = number\r\n",
    "        self.scores = [0 for _ in range(number)]\r\n",
    "\r\n",
    "    def __str__(self) -> str:\r\n",
    "        return f'Student[name = {self.name}, scores = {self.scores}]'\r\n",
    "\r\n",
    "    def getName(self) -> str:\r\n",
    "        return self.name\r\n",
    "\r\n",
    "    def getScore(self, i) -> int:\r\n",
    "        assert(i <= self.number), f'i <= {self.number}'\r\n",
    "        return self.scores[i-1]\r\n",
    "\r\n",
    "    def setScore(self, i, score) -> None:\r\n",
    "        assert(i <= self.number), f'i <= {self.number}'\r\n",
    "        assert(score <= 100), f'score <= 100'\r\n",
    "        self.scores[i-1] = score\r\n",
    "\r\n",
    "    def getHighestScore(self) -> int:\r\n",
    "        return max(self.scores)\r\n",
    "\r\n",
    "    def getAverage(self) -> float:\r\n",
    "        return round(sum(self.scores) / self.number, 2)"
   ],
   "outputs": [],
   "metadata": {}
  },
  {
   "cell_type": "code",
   "execution_count": 31,
   "source": [
    "s = Student('pravallika', 6)\r\n",
    "print(s)"
   ],
   "outputs": [
    {
     "output_type": "stream",
     "name": "stdout",
     "text": [
      "Student[name = pravallika, scores = [0, 0, 0, 0, 0, 0]]\n"
     ]
    }
   ],
   "metadata": {}
  },
  {
   "cell_type": "code",
   "execution_count": 18,
   "source": [
    "s.setScore(10, 150)"
   ],
   "outputs": [
    {
     "output_type": "error",
     "ename": "AssertionError",
     "evalue": "i <= 6",
     "traceback": [
      "\u001b[1;31m---------------------------------------------------------------------------\u001b[0m",
      "\u001b[1;31mAssertionError\u001b[0m                            Traceback (most recent call last)",
      "\u001b[1;32m<ipython-input-18-cac0ae00b24a>\u001b[0m in \u001b[0;36m<module>\u001b[1;34m\u001b[0m\n\u001b[1;32m----> 1\u001b[1;33m \u001b[0ms\u001b[0m\u001b[1;33m.\u001b[0m\u001b[0msetScore\u001b[0m\u001b[1;33m(\u001b[0m\u001b[1;36m10\u001b[0m\u001b[1;33m,\u001b[0m \u001b[1;36m150\u001b[0m\u001b[1;33m)\u001b[0m\u001b[1;33m\u001b[0m\u001b[1;33m\u001b[0m\u001b[0m\n\u001b[0m",
      "\u001b[1;32m<ipython-input-15-4f637f8a3cfc>\u001b[0m in \u001b[0;36msetScore\u001b[1;34m(self, i, score)\u001b[0m\n\u001b[0;32m     15\u001b[0m \u001b[1;33m\u001b[0m\u001b[0m\n\u001b[0;32m     16\u001b[0m     \u001b[1;32mdef\u001b[0m \u001b[0msetScore\u001b[0m\u001b[1;33m(\u001b[0m\u001b[0mself\u001b[0m\u001b[1;33m,\u001b[0m \u001b[0mi\u001b[0m\u001b[1;33m,\u001b[0m \u001b[0mscore\u001b[0m\u001b[1;33m)\u001b[0m \u001b[1;33m->\u001b[0m \u001b[1;32mNone\u001b[0m\u001b[1;33m:\u001b[0m\u001b[1;33m\u001b[0m\u001b[1;33m\u001b[0m\u001b[0m\n\u001b[1;32m---> 17\u001b[1;33m         \u001b[1;32massert\u001b[0m\u001b[1;33m(\u001b[0m\u001b[0mi\u001b[0m \u001b[1;33m<=\u001b[0m \u001b[0mself\u001b[0m\u001b[1;33m.\u001b[0m\u001b[0mnumber\u001b[0m\u001b[1;33m)\u001b[0m\u001b[1;33m,\u001b[0m \u001b[1;34mf'i <= {self.number}'\u001b[0m\u001b[1;33m\u001b[0m\u001b[1;33m\u001b[0m\u001b[0m\n\u001b[0m\u001b[0;32m     18\u001b[0m         \u001b[1;32massert\u001b[0m\u001b[1;33m(\u001b[0m\u001b[0mscore\u001b[0m \u001b[1;33m<=\u001b[0m \u001b[1;36m100\u001b[0m\u001b[1;33m)\u001b[0m\u001b[1;33m,\u001b[0m \u001b[1;34mf'score <= 100'\u001b[0m\u001b[1;33m\u001b[0m\u001b[1;33m\u001b[0m\u001b[0m\n\u001b[0;32m     19\u001b[0m         \u001b[0mself\u001b[0m\u001b[1;33m.\u001b[0m\u001b[0mscores\u001b[0m\u001b[1;33m[\u001b[0m\u001b[0mi\u001b[0m\u001b[1;33m-\u001b[0m\u001b[1;36m1\u001b[0m\u001b[1;33m]\u001b[0m \u001b[1;33m=\u001b[0m \u001b[0mscore\u001b[0m\u001b[1;33m\u001b[0m\u001b[1;33m\u001b[0m\u001b[0m\n",
      "\u001b[1;31mAssertionError\u001b[0m: i <= 6"
     ]
    }
   ],
   "metadata": {}
  },
  {
   "cell_type": "code",
   "execution_count": 19,
   "source": [
    "s.setScore(6, 150)"
   ],
   "outputs": [
    {
     "output_type": "error",
     "ename": "AssertionError",
     "evalue": "score <= 100",
     "traceback": [
      "\u001b[1;31m---------------------------------------------------------------------------\u001b[0m",
      "\u001b[1;31mAssertionError\u001b[0m                            Traceback (most recent call last)",
      "\u001b[1;32m<ipython-input-19-fd58b4e720b6>\u001b[0m in \u001b[0;36m<module>\u001b[1;34m\u001b[0m\n\u001b[1;32m----> 1\u001b[1;33m \u001b[0ms\u001b[0m\u001b[1;33m.\u001b[0m\u001b[0msetScore\u001b[0m\u001b[1;33m(\u001b[0m\u001b[1;36m6\u001b[0m\u001b[1;33m,\u001b[0m \u001b[1;36m150\u001b[0m\u001b[1;33m)\u001b[0m\u001b[1;33m\u001b[0m\u001b[1;33m\u001b[0m\u001b[0m\n\u001b[0m",
      "\u001b[1;32m<ipython-input-15-4f637f8a3cfc>\u001b[0m in \u001b[0;36msetScore\u001b[1;34m(self, i, score)\u001b[0m\n\u001b[0;32m     16\u001b[0m     \u001b[1;32mdef\u001b[0m \u001b[0msetScore\u001b[0m\u001b[1;33m(\u001b[0m\u001b[0mself\u001b[0m\u001b[1;33m,\u001b[0m \u001b[0mi\u001b[0m\u001b[1;33m,\u001b[0m \u001b[0mscore\u001b[0m\u001b[1;33m)\u001b[0m \u001b[1;33m->\u001b[0m \u001b[1;32mNone\u001b[0m\u001b[1;33m:\u001b[0m\u001b[1;33m\u001b[0m\u001b[1;33m\u001b[0m\u001b[0m\n\u001b[0;32m     17\u001b[0m         \u001b[1;32massert\u001b[0m\u001b[1;33m(\u001b[0m\u001b[0mi\u001b[0m \u001b[1;33m<=\u001b[0m \u001b[0mself\u001b[0m\u001b[1;33m.\u001b[0m\u001b[0mnumber\u001b[0m\u001b[1;33m)\u001b[0m\u001b[1;33m,\u001b[0m \u001b[1;34mf'i <= {self.number}'\u001b[0m\u001b[1;33m\u001b[0m\u001b[1;33m\u001b[0m\u001b[0m\n\u001b[1;32m---> 18\u001b[1;33m         \u001b[1;32massert\u001b[0m\u001b[1;33m(\u001b[0m\u001b[0mscore\u001b[0m \u001b[1;33m<=\u001b[0m \u001b[1;36m100\u001b[0m\u001b[1;33m)\u001b[0m\u001b[1;33m,\u001b[0m \u001b[1;34mf'score <= 100'\u001b[0m\u001b[1;33m\u001b[0m\u001b[1;33m\u001b[0m\u001b[0m\n\u001b[0m\u001b[0;32m     19\u001b[0m         \u001b[0mself\u001b[0m\u001b[1;33m.\u001b[0m\u001b[0mscores\u001b[0m\u001b[1;33m[\u001b[0m\u001b[0mi\u001b[0m\u001b[1;33m-\u001b[0m\u001b[1;36m1\u001b[0m\u001b[1;33m]\u001b[0m \u001b[1;33m=\u001b[0m \u001b[0mscore\u001b[0m\u001b[1;33m\u001b[0m\u001b[1;33m\u001b[0m\u001b[0m\n\u001b[0;32m     20\u001b[0m \u001b[1;33m\u001b[0m\u001b[0m\n",
      "\u001b[1;31mAssertionError\u001b[0m: score <= 100"
     ]
    }
   ],
   "metadata": {}
  },
  {
   "cell_type": "code",
   "execution_count": 32,
   "source": [
    "s.setScore(6, 90)\r\n",
    "print(s)"
   ],
   "outputs": [
    {
     "output_type": "stream",
     "name": "stdout",
     "text": [
      "Student[name = pravallika, scores = [0, 0, 0, 0, 0, 90]]\n"
     ]
    }
   ],
   "metadata": {}
  },
  {
   "cell_type": "code",
   "execution_count": 33,
   "source": [
    "s.setScore(1, 50)\r\n",
    "s.setScore(5, 85)\r\n",
    "s.setScore(4, 80)\r\n",
    "s.setScore(2, 88)\r\n",
    "s.setScore(3, 89)\r\n",
    "print(s)"
   ],
   "outputs": [
    {
     "output_type": "stream",
     "name": "stdout",
     "text": [
      "Student[name = pravallika, scores = [50, 88, 89, 80, 85, 90]]\n"
     ]
    }
   ],
   "metadata": {}
  },
  {
   "cell_type": "code",
   "execution_count": 25,
   "source": [
    "s.getHighestScore()"
   ],
   "outputs": [
    {
     "output_type": "execute_result",
     "data": {
      "text/plain": [
       "90"
      ]
     },
     "metadata": {},
     "execution_count": 25
    }
   ],
   "metadata": {}
  },
  {
   "cell_type": "code",
   "execution_count": 34,
   "source": [
    "s.getAverage()"
   ],
   "outputs": [
    {
     "output_type": "execute_result",
     "data": {
      "text/plain": [
       "80.33"
      ]
     },
     "metadata": {},
     "execution_count": 34
    }
   ],
   "metadata": {}
  },
  {
   "cell_type": "markdown",
   "source": [
    "## Playing the game of craps\r\n",
    "### A player in the game of craps rolls a pair of dice. if the sum of the values on this initial roll is 2, 3, or 12, the player loses. if the sum is 7 or 11, the player wins. otherwise, the player continues to roll untill the sum is 7, indicating a loss, or the sum equals the initial sum, indicating a win"
   ],
   "metadata": {}
  },
  {
   "cell_type": "code",
   "execution_count": 21,
   "source": [
    "from random import randint\r\n",
    "class Die:\r\n",
    "    def __init__(self) -> None:\r\n",
    "        self.value = 1\r\n",
    "\r\n",
    "    def roll(self) -> None:\r\n",
    "        self.value = randint(1, 6)\r\n",
    "\r\n",
    "    def getvalue(self) -> int:\r\n",
    "        return self.value\r\n",
    "\r\n",
    "    def __str__(self) -> str:\r\n",
    "        return f'{self.value}'"
   ],
   "outputs": [],
   "metadata": {}
  },
  {
   "cell_type": "code",
   "execution_count": 19,
   "source": [
    "class Player:\r\n",
    "    def __init__(self) -> None:\r\n",
    "        self.die1 = Die()\r\n",
    "        self.die2 = Die()\r\n",
    "        self.rolls = []\r\n",
    "\r\n",
    "    def getNumberOfRolls(self) -> int:\r\n",
    "        return len(self.rolls)\r\n",
    "\r\n",
    "    def play(self) -> bool:\r\n",
    "        self.rolls = []\r\n",
    "        self.die1.roll()\r\n",
    "        self.die2.roll()\r\n",
    "        v1, v2 = self.die1.getvalue(), self.die2.getvalue()\r\n",
    "        self.rolls.append((v1, v2))\r\n",
    "        initial_sum = v1 + v2\r\n",
    "        if initial_sum in [2, 3, 12]:\r\n",
    "            return False\r\n",
    "        elif initial_sum in [7, 11]:\r\n",
    "            return True\r\n",
    "\r\n",
    "        while True:\r\n",
    "            self.die1.roll()\r\n",
    "            self.die2.roll()\r\n",
    "            v1, v2 = self.die1.getvalue(), self.die2.getvalue()\r\n",
    "            self.rolls.append((v1, v2))\r\n",
    "            later_sum = v1 + v2\r\n",
    "\r\n",
    "            if later_sum == 7:\r\n",
    "                return False\r\n",
    "            elif initial_sum == later_sum:\r\n",
    "                return True\r\n",
    "\r\n",
    "    def __str__(self) -> str:\r\n",
    "        return str(self.rolls)"
   ],
   "outputs": [],
   "metadata": {}
  },
  {
   "cell_type": "code",
   "execution_count": 43,
   "source": [
    "p = Player()\r\n",
    "win = p.play()\r\n",
    "if win:\r\n",
    "    print('You Won the Game')\r\n",
    "else:\r\n",
    "    print('Hey, You Lost the Game')\r\n",
    "print(p)"
   ],
   "outputs": [
    {
     "output_type": "stream",
     "name": "stdout",
     "text": [
      "You Won the Game\n",
      "[(6, 2), (1, 1), (4, 2), (6, 3), (3, 1), (2, 6)]\n"
     ]
    }
   ],
   "metadata": {}
  },
  {
   "cell_type": "markdown",
   "source": [
    "## Data Modeling Example"
   ],
   "metadata": {}
  },
  {
   "cell_type": "code",
   "execution_count": 31,
   "source": [
    "class Rational:\r\n",
    "    def __init__(self, numer, denom) -> None:\r\n",
    "        self.numerator = numer\r\n",
    "        self.denominator = denom\r\n",
    "        self._reduce()\r\n",
    "\r\n",
    "    def getNumerator(self) -> int:\r\n",
    "        return self.numerator\r\n",
    "\r\n",
    "    def getDenominator(self) -> int:\r\n",
    "        return self.denominator\r\n",
    "\r\n",
    "    def __str__(self) -> str:\r\n",
    "        return f'{self.numerator}/{self.denominator}'\r\n",
    "\r\n",
    "    def _reduce(self) -> None:\r\n",
    "        divisor = self._gcd(self.numerator, self.denominator)\r\n",
    "        self.numerator //= divisor\r\n",
    "        self.denominator //= divisor\r\n",
    "\r\n",
    "    def _gcd(self, a, b) -> int:\r\n",
    "        a, b = min(a, b), max(a, b)\r\n",
    "        while(a > 0):\r\n",
    "            a, b = b % a, a\r\n",
    "        return b"
   ],
   "outputs": [],
   "metadata": {}
  },
  {
   "cell_type": "code",
   "execution_count": 52,
   "source": [
    "r = Rational(27, 48)\r\n",
    "print(r)"
   ],
   "outputs": [
    {
     "output_type": "stream",
     "name": "stdout",
     "text": [
      "9/16\n"
     ]
    }
   ],
   "metadata": {}
  },
  {
   "cell_type": "code",
   "execution_count": 57,
   "source": [
    "class Rational:\r\n",
    "    def __init__(self, numer, denom) -> None:\r\n",
    "        self.numerator = numer\r\n",
    "        self.denominator = denom\r\n",
    "        self._reduce()\r\n",
    "\r\n",
    "    def getNumerator(self) -> int:\r\n",
    "        return self.numerator\r\n",
    "\r\n",
    "    def getDenominator(self) -> int:\r\n",
    "        return self.denominator\r\n",
    "\r\n",
    "    def __str__(self) -> str:\r\n",
    "        return f'{self.numerator}/{self.denominator}'\r\n",
    "\r\n",
    "    def _reduce(self) -> None:\r\n",
    "        divisor = self._gcd(self.numerator, self.denominator)\r\n",
    "        self.numerator //= divisor\r\n",
    "        self.denominator //= divisor\r\n",
    "\r\n",
    "    def _gcd(self, a, b) -> int:\r\n",
    "        a, b = min(a, b), max(a, b)\r\n",
    "        while(a > 0):\r\n",
    "            a, b = b % a, a\r\n",
    "        return b\r\n",
    "\r\n",
    "    def __add__(self, other) -> Rational:\r\n",
    "        n = self.getNumerator() * other.getDenominator() + self.getDenominator() * other.getNumerator()\r\n",
    "        d = self.getDenominator() * other.getDenominator()\r\n",
    "        return Rational(n, d)"
   ],
   "outputs": [],
   "metadata": {}
  },
  {
   "cell_type": "code",
   "execution_count": 58,
   "source": [
    "r1 = Rational(27, 48)\r\n",
    "r2 = Rational(3, 16)\r\n",
    "r3 = r1 + r2\r\n",
    "print(r1)\r\n",
    "print(r2)\r\n",
    "print(r3)"
   ],
   "outputs": [
    {
     "output_type": "stream",
     "name": "stdout",
     "text": [
      "9/16\n",
      "3/16\n",
      "3/4\n"
     ]
    }
   ],
   "metadata": {}
  },
  {
   "cell_type": "markdown",
   "source": [
    "## similarly use __sub__(), __mul__(), __div__() to implement all other operations"
   ],
   "metadata": {}
  },
  {
   "cell_type": "code",
   "execution_count": 59,
   "source": [
    "class Rational:\r\n",
    "    def __init__(self, numer, denom) -> None:\r\n",
    "        self.numerator = numer\r\n",
    "        self.denominator = denom\r\n",
    "        self._reduce()\r\n",
    "\r\n",
    "    def getNumerator(self) -> int:\r\n",
    "        return self.numerator\r\n",
    "\r\n",
    "    def getDenominator(self) -> int:\r\n",
    "        return self.denominator\r\n",
    "\r\n",
    "    def __str__(self) -> str:\r\n",
    "        return f'{self.numerator}/{self.denominator}'\r\n",
    "\r\n",
    "    def _reduce(self) -> None:\r\n",
    "        divisor = self._gcd(self.numerator, self.denominator)\r\n",
    "        self.numerator //= divisor\r\n",
    "        self.denominator //= divisor\r\n",
    "\r\n",
    "    def _gcd(self, a, b) -> int:\r\n",
    "        a, b = min(a, b), max(a, b)\r\n",
    "        while(a > 0):\r\n",
    "            a, b = b % a, a\r\n",
    "        return b\r\n",
    "\r\n",
    "    def __add__(self, other) -> Rational:\r\n",
    "        n = self.getNumerator() * other.getDenominator() + self.getDenominator() * other.getNumerator()\r\n",
    "        d = self.getDenominator() * other.getDenominator()\r\n",
    "        return Rational(n, d)\r\n",
    "\r\n",
    "    def __eq__(self, other) -> bool:\r\n",
    "        return self.numerator == other.getNumerator() and self.denominator == other.getDenominator()"
   ],
   "outputs": [],
   "metadata": {}
  },
  {
   "cell_type": "code",
   "execution_count": 60,
   "source": [
    "r1 = Rational(27, 48)\r\n",
    "r2 = Rational(3, 16)\r\n",
    "r1 == r2"
   ],
   "outputs": [
    {
     "output_type": "execute_result",
     "data": {
      "text/plain": [
       "False"
      ]
     },
     "metadata": {},
     "execution_count": 60
    }
   ],
   "metadata": {}
  },
  {
   "cell_type": "code",
   "execution_count": 61,
   "source": [
    "r1 = Rational(9, 48)\r\n",
    "r2 = Rational(3, 16)\r\n",
    "r1 == r2"
   ],
   "outputs": [
    {
     "output_type": "execute_result",
     "data": {
      "text/plain": [
       "True"
      ]
     },
     "metadata": {},
     "execution_count": 61
    }
   ],
   "metadata": {}
  },
  {
   "cell_type": "markdown",
   "source": [
    "## Creating a new Data Structure (Grid/Matrix)"
   ],
   "metadata": {}
  },
  {
   "cell_type": "code",
   "execution_count": 9,
   "source": [
    "class Grid:\r\n",
    "    def __init__(self, rows, cols, defaultValue = None) -> None:\r\n",
    "        self.data = [[defaultValue for _ in range(cols)] for _ in range(rows)]\r\n",
    "\r\n",
    "    def __str__(self) -> str:\r\n",
    "        return f'Grid({self.data})'\r\n",
    "\r\n",
    "    def getHeight(self) -> int:\r\n",
    "        return len(self.data)\r\n",
    "\r\n",
    "    def getWidth(self) -> int:\r\n",
    "        return len(self.data[0])\r\n",
    "\r\n",
    "    def __getitem__(self, index):\r\n",
    "        return self.data[index]\r\n",
    "\r\n",
    "    def find(self, value):\r\n",
    "        for r in range(self.getHeight()):\r\n",
    "            for c in range(self.getWidth()):\r\n",
    "                if self[r][c] == value:\r\n",
    "                    return (r, c)\r\n",
    "        return (-1, -1)"
   ],
   "outputs": [],
   "metadata": {}
  },
  {
   "cell_type": "code",
   "execution_count": 11,
   "source": [
    "g = Grid(2, 3, 1)\r\n",
    "print(g)\r\n",
    "\r\n",
    "g[1][2] = 2\r\n",
    "print(g)\r\n",
    "\r\n",
    "print(g[1][1])"
   ],
   "outputs": [
    {
     "output_type": "stream",
     "name": "stdout",
     "text": [
      "Grid([[1, 1, 1], [1, 1, 1]])\n",
      "Grid([[1, 1, 1], [1, 1, 2]])\n",
      "1\n"
     ]
    }
   ],
   "metadata": {}
  },
  {
   "cell_type": "code",
   "execution_count": 7,
   "source": [
    "g[3][3] = 8\r\n",
    "print(g)"
   ],
   "outputs": [
    {
     "output_type": "error",
     "ename": "IndexError",
     "evalue": "list index out of range",
     "traceback": [
      "\u001b[1;31m---------------------------------------------------------------------------\u001b[0m",
      "\u001b[1;31mIndexError\u001b[0m                                Traceback (most recent call last)",
      "\u001b[1;32m<ipython-input-7-5c2b4b6dff1e>\u001b[0m in \u001b[0;36m<module>\u001b[1;34m\u001b[0m\n\u001b[1;32m----> 1\u001b[1;33m \u001b[0mg\u001b[0m\u001b[1;33m[\u001b[0m\u001b[1;36m3\u001b[0m\u001b[1;33m]\u001b[0m\u001b[1;33m[\u001b[0m\u001b[1;36m3\u001b[0m\u001b[1;33m]\u001b[0m \u001b[1;33m=\u001b[0m \u001b[1;36m8\u001b[0m\u001b[1;33m\u001b[0m\u001b[1;33m\u001b[0m\u001b[0m\n\u001b[0m\u001b[0;32m      2\u001b[0m \u001b[0mprint\u001b[0m\u001b[1;33m(\u001b[0m\u001b[0mg\u001b[0m\u001b[1;33m)\u001b[0m\u001b[1;33m\u001b[0m\u001b[1;33m\u001b[0m\u001b[0m\n",
      "\u001b[1;32m<ipython-input-3-0ece0604b504>\u001b[0m in \u001b[0;36m__getitem__\u001b[1;34m(self, index)\u001b[0m\n\u001b[0;32m     13\u001b[0m \u001b[1;33m\u001b[0m\u001b[0m\n\u001b[0;32m     14\u001b[0m     \u001b[1;32mdef\u001b[0m \u001b[0m__getitem__\u001b[0m\u001b[1;33m(\u001b[0m\u001b[0mself\u001b[0m\u001b[1;33m,\u001b[0m \u001b[0mindex\u001b[0m\u001b[1;33m)\u001b[0m\u001b[1;33m:\u001b[0m\u001b[1;33m\u001b[0m\u001b[1;33m\u001b[0m\u001b[0m\n\u001b[1;32m---> 15\u001b[1;33m         \u001b[1;32mreturn\u001b[0m \u001b[0mself\u001b[0m\u001b[1;33m.\u001b[0m\u001b[0mdata\u001b[0m\u001b[1;33m[\u001b[0m\u001b[0mindex\u001b[0m\u001b[1;33m]\u001b[0m\u001b[1;33m\u001b[0m\u001b[1;33m\u001b[0m\u001b[0m\n\u001b[0m",
      "\u001b[1;31mIndexError\u001b[0m: list index out of range"
     ]
    }
   ],
   "metadata": {}
  },
  {
   "cell_type": "code",
   "execution_count": 8,
   "source": [
    "g[1] = [1, 2, 3]\r\n",
    "print(g)"
   ],
   "outputs": [
    {
     "output_type": "error",
     "ename": "TypeError",
     "evalue": "'Grid' object does not support item assignment",
     "traceback": [
      "\u001b[1;31m---------------------------------------------------------------------------\u001b[0m",
      "\u001b[1;31mTypeError\u001b[0m                                 Traceback (most recent call last)",
      "\u001b[1;32m<ipython-input-8-e09ac758e26a>\u001b[0m in \u001b[0;36m<module>\u001b[1;34m\u001b[0m\n\u001b[1;32m----> 1\u001b[1;33m \u001b[0mg\u001b[0m\u001b[1;33m[\u001b[0m\u001b[1;36m1\u001b[0m\u001b[1;33m]\u001b[0m \u001b[1;33m=\u001b[0m \u001b[1;33m[\u001b[0m\u001b[1;36m1\u001b[0m\u001b[1;33m,\u001b[0m \u001b[1;36m2\u001b[0m\u001b[1;33m,\u001b[0m \u001b[1;36m3\u001b[0m\u001b[1;33m]\u001b[0m\u001b[1;33m\u001b[0m\u001b[1;33m\u001b[0m\u001b[0m\n\u001b[0m\u001b[0;32m      2\u001b[0m \u001b[0mprint\u001b[0m\u001b[1;33m(\u001b[0m\u001b[0mg\u001b[0m\u001b[1;33m)\u001b[0m\u001b[1;33m\u001b[0m\u001b[1;33m\u001b[0m\u001b[0m\n",
      "\u001b[1;31mTypeError\u001b[0m: 'Grid' object does not support item assignment"
     ]
    }
   ],
   "metadata": {}
  },
  {
   "cell_type": "code",
   "execution_count": 12,
   "source": [
    "print(g.find(3))"
   ],
   "outputs": [
    {
     "output_type": "stream",
     "name": "stdout",
     "text": [
      "(-1, -1)\n"
     ]
    }
   ],
   "metadata": {}
  },
  {
   "cell_type": "code",
   "execution_count": 13,
   "source": [
    "print(g.find(2))"
   ],
   "outputs": [
    {
     "output_type": "stream",
     "name": "stdout",
     "text": [
      "(1, 2)\n"
     ]
    }
   ],
   "metadata": {}
  },
  {
   "cell_type": "code",
   "execution_count": 14,
   "source": [
    "print(g.find(1))"
   ],
   "outputs": [
    {
     "output_type": "stream",
     "name": "stdout",
     "text": [
      "(0, 0)\n"
     ]
    }
   ],
   "metadata": {}
  },
  {
   "cell_type": "markdown",
   "source": [
    "## Palying Cards"
   ],
   "metadata": {}
  },
  {
   "cell_type": "code",
   "execution_count": 64,
   "source": [
    "class Card:\r\n",
    "    # class level variables\r\n",
    "    RANKS = (1, 2, 3, 4, 5, 6, 7, 8, 9, 10, 11, 12, 13)\r\n",
    "    SUITS = ('Spades', 'Diamonds', 'Hearts', 'Clubs')\r\n",
    "\r\n",
    "    def __init__(self, rank, suit):\r\n",
    "        self.rank = rank\r\n",
    "        self.suit = suit\r\n",
    "\r\n",
    "    def __str__(self) -> str:\r\n",
    "        if self.rank == 1:\r\n",
    "            rank = 'Ace'\r\n",
    "        elif self.rank == 11:\r\n",
    "            rank = 'Jack'\r\n",
    "        elif self.rank == 12:\r\n",
    "            rank = 'Queen'\r\n",
    "        elif self.rank == 13:\r\n",
    "            rank = 'King'\r\n",
    "        else:\r\n",
    "            rank = self.rank\r\n",
    "\r\n",
    "        return f'({rank}, {self.suit})'"
   ],
   "outputs": [],
   "metadata": {}
  },
  {
   "cell_type": "code",
   "execution_count": 70,
   "source": [
    "c = Card(11, Card.SUITS[0])\r\n",
    "print(c)"
   ],
   "outputs": [
    {
     "output_type": "stream",
     "name": "stdout",
     "text": [
      "(Jack, Spades)\n"
     ]
    }
   ],
   "metadata": {}
  },
  {
   "cell_type": "code",
   "execution_count": 71,
   "source": [
    "import random\r\n",
    "class Deck:\r\n",
    "    def __init__(self) -> None:\r\n",
    "        self.cards = [Card(rank, suit) for rank in Card.RANKS for suit in Card.SUITS]\r\n",
    "\r\n",
    "    def shuffle(self):\r\n",
    "        random.shuffle(self.cards)\r\n",
    "\r\n",
    "    def __len__(self):\r\n",
    "        return len(self.cards)\r\n",
    "\r\n",
    "    def deal(self):\r\n",
    "        return None if len(self) == 0 else self.cards.pop(0)\r\n",
    "\r\n",
    "    def __str__(self) -> str:\r\n",
    "        return str(self.cards)"
   ],
   "outputs": [],
   "metadata": {}
  },
  {
   "cell_type": "code",
   "execution_count": 74,
   "source": [
    "d = Deck()\r\n",
    "d.shuffle()\r\n",
    "print(len(d))\r\n",
    "print(d.deal())\r\n",
    "print(len(d))\r\n",
    "print(d.deal())\r\n",
    "print(len(d))"
   ],
   "outputs": [
    {
     "output_type": "stream",
     "name": "stdout",
     "text": [
      "52\n",
      "(2, Hearts)\n",
      "51\n",
      "(Jack, Clubs)\n",
      "50\n"
     ]
    }
   ],
   "metadata": {}
  },
  {
   "cell_type": "markdown",
   "source": [
    "## Case Study (ATM)"
   ],
   "metadata": {}
  },
  {
   "cell_type": "code",
   "execution_count": 1,
   "source": [
    "class Account:\r\n",
    "    def __init__(self, name, pin, balance=0) -> None:\r\n",
    "        self.name = name\r\n",
    "        self.pin = pin\r\n",
    "        self.balance = balance\r\n",
    "\r\n",
    "    def __str__(self) -> str:\r\n",
    "        return f'Account[name = {self.name}, pin = {self.pin}, balance = {self.balance}]'\r\n",
    "\r\n",
    "    def getName(self) -> str:\r\n",
    "        return self.name\r\n",
    "\r\n",
    "    def getPin(self) -> int:\r\n",
    "        return self.pin\r\n",
    "\r\n",
    "    def getBalance(self) -> float:\r\n",
    "        return self.balance\r\n",
    "\r\n",
    "    def deposit(self, amount) -> None:\r\n",
    "        self.balance += amount\r\n",
    "\r\n",
    "    def withdraw(self, amount) -> None:\r\n",
    "        if amount < 0:\r\n",
    "            return 'Amount must be >= 0'\r\n",
    "        elif amount > self.balance:\r\n",
    "            return 'Insufficient Funds'\r\n",
    "        else:\r\n",
    "            self.balance -= amount\r\n",
    "            return None"
   ],
   "outputs": [],
   "metadata": {}
  },
  {
   "cell_type": "code",
   "execution_count": 51,
   "source": [
    "class Bank:\r\n",
    "    def __init__(self) -> None:\r\n",
    "        self.accounts = {}\r\n",
    "\r\n",
    "    def __str__(self) -> str:\r\n",
    "        return '\\n'.join(map(str, self.accounts.values()))\r\n",
    "\r\n",
    "    def makeKey(self, name, pin):\r\n",
    "        return f'{name}/{pin}'\r\n",
    "\r\n",
    "    def add(self, account):\r\n",
    "        key = self.makeKey(account.getName(), account.getPin())\r\n",
    "        self.accounts[key] = account\r\n",
    "\r\n",
    "    def remove(self, name, pin):\r\n",
    "        key = self.makeKey(name, pin)\r\n",
    "        return self.accounts.pop(key, None)\r\n",
    "\r\n",
    "    def get(self, name, pin):\r\n",
    "        key = self.makeKey(name, pin)\r\n",
    "        return self.accounts.get(key, None)"
   ],
   "outputs": [],
   "metadata": {}
  },
  {
   "cell_type": "code",
   "execution_count": 56,
   "source": [
    "class ATM:\r\n",
    "    def __init__(self, bank) -> None:\r\n",
    "        self.bank = bank\r\n",
    "        self.account = None\r\n",
    "\r\n",
    "    def login(self, name, pin) -> bool:\r\n",
    "        self.account = self.bank.get(name, pin)\r\n",
    "        print(f'Hello {name}!') if self.account else print('Check Credentials')\r\n",
    "\r\n",
    "    def logout(self):\r\n",
    "        print(f'Thank you {self.account.getName()}')\r\n",
    "        self.account = None\r\n",
    "\r\n",
    "    def getBalance(self):\r\n",
    "        return f'Balance = {self.account.getBalance()}'\r\n",
    "\r\n",
    "    def withdraw(self, amount):\r\n",
    "        message = self.account.withdraw(amount)\r\n",
    "        if not message:\r\n",
    "            print('Withdrawal successful')\r\n",
    "        else:\r\n",
    "            print(message)"
   ],
   "outputs": [],
   "metadata": {}
  },
  {
   "cell_type": "code",
   "execution_count": 52,
   "source": [
    "a = Account('anand', '1234', 10000)\r\n",
    "print(a)"
   ],
   "outputs": [
    {
     "output_type": "stream",
     "name": "stdout",
     "text": [
      "Account[name = anand, pin = 1234, balance = 10000]\n"
     ]
    }
   ],
   "metadata": {}
  },
  {
   "cell_type": "code",
   "execution_count": 59,
   "source": [
    "b = Bank()\r\n",
    "b.add(a)\r\n",
    "print(b)"
   ],
   "outputs": [
    {
     "output_type": "stream",
     "name": "stdout",
     "text": [
      "Account[name = anand, pin = 1234, balance = 10000]\n"
     ]
    }
   ],
   "metadata": {}
  },
  {
   "cell_type": "code",
   "execution_count": 62,
   "source": [
    "c = ATM(b)\r\n",
    "c.login('anand', '1234')\r\n",
    "print(c.getBalance())\r\n",
    "c.withdraw(1500)\r\n",
    "print(c.getBalance())\r\n",
    "c.logout()"
   ],
   "outputs": [
    {
     "output_type": "stream",
     "name": "stdout",
     "text": [
      "Hello anand!\n",
      "Balance = 8500\n",
      "Withdrawal successful\n",
      "Balance = 7000\n",
      "Thank you anand\n"
     ]
    }
   ],
   "metadata": {}
  },
  {
   "cell_type": "markdown",
   "source": [
    "## Inheritance and Polymorphism"
   ],
   "metadata": {}
  },
  {
   "cell_type": "code",
   "execution_count": 2,
   "source": [
    "class SavingsAccount(Account):\r\n",
    "    MAX_WITHDRAWALS = 3\r\n",
    "    def __init__(self, name, pin, balance) -> None:\r\n",
    "        super().__init__(name, pin, balance=balance)\r\n",
    "        self.count = 0\r\n",
    "\r\n",
    "    def withdraw(self, amount) -> None:\r\n",
    "        if self.count == SavingsAccount.MAX_WITHDRAWALS:\r\n",
    "            return 'No more withdrawals this month'\r\n",
    "        else:\r\n",
    "            message = super().withdraw(amount)\r\n",
    "            if message == None: self.count += 1\r\n",
    "            return message\r\n",
    "\r\n",
    "    def reset(self):\r\n",
    "        self.count = 0"
   ],
   "outputs": [],
   "metadata": {}
  },
  {
   "cell_type": "code",
   "execution_count": 4,
   "source": [
    "a = SavingsAccount('anand', 1234, 10000)\r\n",
    "a.getBalance()"
   ],
   "outputs": [
    {
     "output_type": "execute_result",
     "data": {
      "text/plain": [
       "10000"
      ]
     },
     "metadata": {},
     "execution_count": 4
    }
   ],
   "metadata": {}
  },
  {
   "cell_type": "code",
   "execution_count": 5,
   "source": [
    "a.withdraw(1000)\r\n",
    "a.getBalance()"
   ],
   "outputs": [
    {
     "output_type": "execute_result",
     "data": {
      "text/plain": [
       "9000"
      ]
     },
     "metadata": {},
     "execution_count": 5
    }
   ],
   "metadata": {}
  },
  {
   "cell_type": "code",
   "execution_count": 6,
   "source": [
    "a.withdraw(1000)\r\n",
    "a.getBalance()"
   ],
   "outputs": [
    {
     "output_type": "execute_result",
     "data": {
      "text/plain": [
       "8000"
      ]
     },
     "metadata": {},
     "execution_count": 6
    }
   ],
   "metadata": {}
  },
  {
   "cell_type": "code",
   "execution_count": 7,
   "source": [
    "a.withdraw(1000)\r\n",
    "a.getBalance()"
   ],
   "outputs": [
    {
     "output_type": "execute_result",
     "data": {
      "text/plain": [
       "7000"
      ]
     },
     "metadata": {},
     "execution_count": 7
    }
   ],
   "metadata": {}
  },
  {
   "cell_type": "code",
   "execution_count": 9,
   "source": [
    "a.withdraw(1000)"
   ],
   "outputs": [
    {
     "output_type": "execute_result",
     "data": {
      "text/plain": [
       "'No more withdrawals this month'"
      ]
     },
     "metadata": {},
     "execution_count": 9
    }
   ],
   "metadata": {}
  },
  {
   "cell_type": "code",
   "execution_count": 10,
   "source": [
    "a.getBalance()"
   ],
   "outputs": [
    {
     "output_type": "execute_result",
     "data": {
      "text/plain": [
       "7000"
      ]
     },
     "metadata": {},
     "execution_count": 10
    }
   ],
   "metadata": {}
  },
  {
   "cell_type": "code",
   "execution_count": 11,
   "source": [
    "a.reset()"
   ],
   "outputs": [],
   "metadata": {}
  },
  {
   "cell_type": "code",
   "execution_count": 12,
   "source": [
    "a.withdraw(1000)\r\n",
    "a.getBalance()"
   ],
   "outputs": [
    {
     "output_type": "execute_result",
     "data": {
      "text/plain": [
       "6000"
      ]
     },
     "metadata": {},
     "execution_count": 12
    }
   ],
   "metadata": {}
  }
 ],
 "metadata": {
  "orig_nbformat": 4,
  "language_info": {
   "name": "python",
   "version": "3.9.5",
   "mimetype": "text/x-python",
   "codemirror_mode": {
    "name": "ipython",
    "version": 3
   },
   "pygments_lexer": "ipython3",
   "nbconvert_exporter": "python",
   "file_extension": ".py"
  },
  "kernelspec": {
   "name": "python3",
   "display_name": "Python 3.9.5 64-bit"
  },
  "interpreter": {
   "hash": "ac59ebe37160ed0dfa835113d9b8498d9f09ceb179beaac4002f036b9467c963"
  }
 },
 "nbformat": 4,
 "nbformat_minor": 2
}