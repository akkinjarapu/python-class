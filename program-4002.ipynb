{
 "cells": [
  {
   "cell_type": "markdown",
   "source": [
    "## Files"
   ],
   "metadata": {}
  },
  {
   "cell_type": "markdown",
   "source": [
    "### a file is a contiguous set of bytes used to store data. \r\n",
    "### data is organized as simple text file or as complicated program executable\r\n",
    "### Byte files are then translated into binary 1 and 0 for easier processing by the computer"
   ],
   "metadata": {}
  },
  {
   "cell_type": "markdown",
   "source": [
    "## Files on most modern file systems are composed of three main parts:\r\n",
    "\r\n",
    "### Header: metadata about the contents of the file (file name, size, type, and so on)\r\n",
    "### Data: contents of the file as written by the creator or editor\r\n",
    "### End of file (EOF): special character that indicates the end of the file"
   ],
   "metadata": {}
  },
  {
   "cell_type": "markdown",
   "source": [
    "### File paths (depending on OS)\r\n",
    "### File has a name and an extension separated with a dot(.)\r\n",
    "### Line endings CR + LF or \\r\\n (windows, American Standards Association), only LF (Unix, ISO)\r\n",
    "### Character Encodings: ASCII/UTF8 (128) or UNICODE(1,114,112)"
   ],
   "metadata": {}
  },
  {
   "cell_type": "markdown",
   "source": [
    "## Opening and Closing files"
   ],
   "metadata": {}
  },
  {
   "cell_type": "code",
   "execution_count": 1,
   "source": [
    "fh = open('emails.txt') # default in read mode\r\n",
    "fh.close()"
   ],
   "outputs": [],
   "metadata": {}
  },
  {
   "cell_type": "code",
   "execution_count": 2,
   "source": [
    "with open('emails.txt') as fh:\r\n",
    "    pass"
   ],
   "outputs": [],
   "metadata": {}
  },
  {
   "cell_type": "code",
   "execution_count": 3,
   "source": [
    "with open('emails.txt', 'rb') as fh: # Buffered Binary files\r\n",
    "    pass"
   ],
   "outputs": [],
   "metadata": {}
  },
  {
   "cell_type": "code",
   "execution_count": null,
   "source": [
    "with open('emails.txt', 'rb', buffering=0) as fh: # Binary files (raw files)\r\n",
    "    pass"
   ],
   "outputs": [],
   "metadata": {}
  },
  {
   "cell_type": "code",
   "execution_count": 46,
   "source": [
    "with open('emails.txt') as fh:\r\n",
    "    str = fh.read()\r\n",
    "\r\n",
    "print(str)"
   ],
   "outputs": [
    {
     "output_type": "stream",
     "name": "stdout",
     "text": [
      "akkinjarapu@gmail.com\n",
      "anandakumark@aec.edu.in\n",
      "venkateshm@aec.edu.in\n"
     ]
    }
   ],
   "metadata": {}
  },
  {
   "cell_type": "code",
   "execution_count": 5,
   "source": [
    "with open('emails.txt') as fh:\r\n",
    "    print(fh.read(10))"
   ],
   "outputs": [
    {
     "output_type": "stream",
     "name": "stdout",
     "text": [
      "akkinjarap\n"
     ]
    }
   ],
   "metadata": {}
  },
  {
   "cell_type": "code",
   "execution_count": 6,
   "source": [
    "with open('emails.txt') as fh:\r\n",
    "    print(fh.readline())"
   ],
   "outputs": [
    {
     "output_type": "stream",
     "name": "stdout",
     "text": [
      "akkinjarapu@gmail.com\n",
      "\n"
     ]
    }
   ],
   "metadata": {}
  },
  {
   "cell_type": "code",
   "execution_count": 9,
   "source": [
    "with open('emails.txt') as fh:\r\n",
    "    print(fh.readline(15))\r\n",
    "    print(fh.readline(15))\r\n",
    "    print(fh.readline(15))"
   ],
   "outputs": [
    {
     "output_type": "stream",
     "name": "stdout",
     "text": [
      "akkinjarapu@gma\n",
      "il.com\n",
      "\n",
      "anandakumark@ae\n"
     ]
    }
   ],
   "metadata": {}
  },
  {
   "cell_type": "code",
   "execution_count": 10,
   "source": [
    "with open('emails.txt') as fh:\r\n",
    "    print(fh.readlines())"
   ],
   "outputs": [
    {
     "output_type": "stream",
     "name": "stdout",
     "text": [
      "['akkinjarapu@gmail.com\\n', 'anandakumark@aec.edu.in\\n', 'venkateshm@aec.edu.in']\n"
     ]
    }
   ],
   "metadata": {}
  },
  {
   "cell_type": "markdown",
   "source": [
    "## Iterating over each line"
   ],
   "metadata": {}
  },
  {
   "cell_type": "code",
   "execution_count": 11,
   "source": [
    "with open('emails.txt') as fh:\r\n",
    "    while True:\r\n",
    "        line = fh.readline() # reads the \\n at the end of each line\r\n",
    "        if(line == ''): break\r\n",
    "        print(line)"
   ],
   "outputs": [
    {
     "output_type": "stream",
     "name": "stdout",
     "text": [
      "akkinjarapu@gmail.com\n",
      "\n",
      "anandakumark@aec.edu.in\n",
      "\n",
      "venkateshm@aec.edu.in\n"
     ]
    }
   ],
   "metadata": {}
  },
  {
   "cell_type": "code",
   "execution_count": 12,
   "source": [
    "with open('emails.txt') as fh:\r\n",
    "    while True:\r\n",
    "        line = fh.readline().rstrip() # reads the \\n at the end of each line\r\n",
    "        if(line == ''): break\r\n",
    "        print(line)"
   ],
   "outputs": [
    {
     "output_type": "stream",
     "name": "stdout",
     "text": [
      "akkinjarapu@gmail.com\n",
      "anandakumark@aec.edu.in\n",
      "venkateshm@aec.edu.in\n"
     ]
    }
   ],
   "metadata": {}
  },
  {
   "cell_type": "code",
   "execution_count": 14,
   "source": [
    "with open('emails.txt') as fh:\r\n",
    "    for line in fh.readlines():\r\n",
    "        print(line.strip())"
   ],
   "outputs": [
    {
     "output_type": "stream",
     "name": "stdout",
     "text": [
      "akkinjarapu@gmail.com\n",
      "anandakumark@aec.edu.in\n",
      "venkateshm@aec.edu.in\n"
     ]
    }
   ],
   "metadata": {}
  },
  {
   "cell_type": "code",
   "execution_count": 15,
   "source": [
    "with open('emails.txt') as fh:\r\n",
    "    for line in fh.read().splitlines():\r\n",
    "        print(line)"
   ],
   "outputs": [
    {
     "output_type": "stream",
     "name": "stdout",
     "text": [
      "akkinjarapu@gmail.com\n",
      "anandakumark@aec.edu.in\n",
      "venkateshm@aec.edu.in\n"
     ]
    }
   ],
   "metadata": {}
  },
  {
   "cell_type": "code",
   "execution_count": 16,
   "source": [
    "with open('emails.txt') as fh:\r\n",
    "    for line in fh.read().split('\\n'):\r\n",
    "        print(line)"
   ],
   "outputs": [
    {
     "output_type": "stream",
     "name": "stdout",
     "text": [
      "akkinjarapu@gmail.com\n",
      "anandakumark@aec.edu.in\n",
      "venkateshm@aec.edu.in\n"
     ]
    }
   ],
   "metadata": {}
  },
  {
   "cell_type": "code",
   "execution_count": 18,
   "source": [
    "# recommended (quicker and memory efficient)\r\n",
    "with open('emails.txt') as fh:\r\n",
    "    for line in fh:\r\n",
    "        print(line.rstrip())"
   ],
   "outputs": [
    {
     "output_type": "stream",
     "name": "stdout",
     "text": [
      "akkinjarapu@gmail.com\n",
      "anandakumark@aec.edu.in\n",
      "venkateshm@aec.edu.in\n"
     ]
    }
   ],
   "metadata": {}
  },
  {
   "cell_type": "markdown",
   "source": [
    "## Writing into files"
   ],
   "metadata": {}
  },
  {
   "cell_type": "code",
   "execution_count": 47,
   "source": [
    "with open('email.txt', 'w') as fh:\r\n",
    "    fh.write('akk@gmail.com\\n')\r\n",
    "    fh.write('abc@gmail.com')\r\n",
    "    fh.writelines(['abc@hotmail.com', 'abc@yahoo.com\\n', 'abc@ymail.com'])"
   ],
   "outputs": [],
   "metadata": {}
  },
  {
   "cell_type": "markdown",
   "source": [
    "## Reading binary files"
   ],
   "metadata": {}
  },
  {
   "cell_type": "code",
   "execution_count": 28,
   "source": [
    "with open('dog.jpg', 'rb') as fh:\r\n",
    "    print(fh.read(1)) \r\n",
    "    print(fh.read(3))\r\n",
    "    print(fh.read(2)) \r\n",
    "    print(fh.read(1)) \r\n",
    "    print(fh.read(1)) "
   ],
   "outputs": [
    {
     "output_type": "stream",
     "name": "stdout",
     "text": [
      "b'\\xff'\n",
      "b'\\xd8\\xff\\xe0'\n",
      "b'\\x00\\x10'\n",
      "b'J'\n",
      "b'F'\n"
     ]
    }
   ],
   "metadata": {}
  },
  {
   "cell_type": "markdown",
   "source": [
    "## Random access"
   ],
   "metadata": {}
  },
  {
   "cell_type": "code",
   "execution_count": 33,
   "source": [
    "with open('emails.txt') as fh:\r\n",
    "    for line in fh:\r\n",
    "        print(line.rstrip())"
   ],
   "outputs": [
    {
     "output_type": "stream",
     "name": "stdout",
     "text": [
      "akkinjarapu@gmail.com\n",
      "anandakumark@aec.edu.in\n",
      "venkateshm@aec.edu.in\n"
     ]
    }
   ],
   "metadata": {}
  },
  {
   "cell_type": "code",
   "execution_count": 53,
   "source": [
    "with open('emails.txt') as fh:\r\n",
    "    print(fh.tell())\r\n",
    "    print(fh.readline().rstrip())\r\n",
    "    print(fh.tell())\r\n",
    "    print(fh.seek(5))\r\n",
    "    print(fh.readline().rstrip())\r\n",
    "    print(fh.seek(0, 2))\r\n",
    "    print(fh.readline().rstrip())\r\n",
    "print('for text files negative indexing not allowed')\r\n",
    "print('for binary files negative indexing allowed')"
   ],
   "outputs": [
    {
     "output_type": "stream",
     "name": "stdout",
     "text": [
      "0\n",
      "akkinjarapu@gmail.com\n",
      "23\n",
      "5\n",
      "jarapu@gmail.com\n",
      "69\n",
      "\n",
      "for text files negative indexing not allowed\n",
      "for binary files negative indexing allowed\n"
     ]
    }
   ],
   "metadata": {}
  },
  {
   "cell_type": "code",
   "execution_count": 52,
   "source": [
    "with open('emails.txt', 'rb') as fh:\r\n",
    "    print(fh.tell())\r\n",
    "    print(fh.readline().rstrip())\r\n",
    "    print(fh.tell())\r\n",
    "    print(fh.seek(-5, 1))\r\n",
    "    print(fh.readline().rstrip())\r\n",
    "    print(fh.seek(-5, 2))\r\n",
    "    print(fh.readline().rstrip())"
   ],
   "outputs": [
    {
     "output_type": "stream",
     "name": "stdout",
     "text": [
      "0\n",
      "b'akkinjarapu@gmail.com'\n",
      "23\n",
      "18\n",
      "b'com'\n",
      "64\n",
      "b'du.in'\n"
     ]
    }
   ],
   "metadata": {}
  },
  {
   "cell_type": "markdown",
   "source": [
    "## Directory listing"
   ],
   "metadata": {}
  },
  {
   "cell_type": "code",
   "execution_count": 29,
   "source": [
    "import os\r\n",
    "os.listdir('.')"
   ],
   "outputs": [
    {
     "output_type": "execute_result",
     "data": {
      "text/plain": [
       "['.git',\n",
       " 'ctemps.txt',\n",
       " 'dog.jpg',\n",
       " 'dog.png',\n",
       " 'email.txt',\n",
       " 'emails.txt',\n",
       " 'ftemps.txt',\n",
       " 'lab.ipynb',\n",
       " 'mathutil',\n",
       " 'presentations',\n",
       " 'program-1000.ipynb',\n",
       " 'program-1001.ipynb',\n",
       " 'program-1002.ipynb',\n",
       " 'program-1003.ipynb',\n",
       " 'program-1004.ipynb',\n",
       " 'program-1005.ipynb',\n",
       " 'program-1006.ipynb',\n",
       " 'program-1007.ipynb',\n",
       " 'program-2000.ipynb',\n",
       " 'program-2001.ipynb',\n",
       " 'program-2002.ipynb',\n",
       " 'program-2003.ipynb',\n",
       " 'Program-3001.ipynb',\n",
       " 'program-3002.ipynb',\n",
       " 'program-3003.ipynb',\n",
       " 'program-4002.ipynb',\n",
       " 'program-5001.ipynb',\n",
       " 'README.md',\n",
       " 'recap.ipynb',\n",
       " 'U1-0001.py',\n",
       " 'util.py']"
      ]
     },
     "metadata": {},
     "execution_count": 29
    }
   ],
   "metadata": {}
  },
  {
   "cell_type": "code",
   "execution_count": 30,
   "source": [
    "os.scandir('.') # > 3.5 version"
   ],
   "outputs": [
    {
     "output_type": "execute_result",
     "data": {
      "text/plain": [
       "<nt.ScandirIterator at 0x26ea05ec250>"
      ]
     },
     "metadata": {},
     "execution_count": 30
    }
   ],
   "metadata": {}
  },
  {
   "cell_type": "code",
   "execution_count": 31,
   "source": [
    "with os.scandir('.') as entries:\r\n",
    "    for entry in entries:\r\n",
    "        print(entry.name)"
   ],
   "outputs": [
    {
     "output_type": "stream",
     "name": "stdout",
     "text": [
      ".git\n",
      "ctemps.txt\n",
      "dog.jpg\n",
      "dog.png\n",
      "email.txt\n",
      "emails.txt\n",
      "ftemps.txt\n",
      "lab.ipynb\n",
      "mathutil\n",
      "presentations\n",
      "program-1000.ipynb\n",
      "program-1001.ipynb\n",
      "program-1002.ipynb\n",
      "program-1003.ipynb\n",
      "program-1004.ipynb\n",
      "program-1005.ipynb\n",
      "program-1006.ipynb\n",
      "program-1007.ipynb\n",
      "program-2000.ipynb\n",
      "program-2001.ipynb\n",
      "program-2002.ipynb\n",
      "program-2003.ipynb\n",
      "Program-3001.ipynb\n",
      "program-3002.ipynb\n",
      "program-3003.ipynb\n",
      "program-4002.ipynb\n",
      "program-5001.ipynb\n",
      "README.md\n",
      "recap.ipynb\n",
      "U1-0001.py\n",
      "util.py\n"
     ]
    }
   ],
   "metadata": {}
  },
  {
   "cell_type": "code",
   "execution_count": 32,
   "source": [
    "from pathlib import Path\r\n",
    "\r\n",
    "entries = Path('.')\r\n",
    "for entry in entries.iterdir():\r\n",
    "    print(entry.name)"
   ],
   "outputs": [
    {
     "output_type": "stream",
     "name": "stdout",
     "text": [
      ".git\n",
      "ctemps.txt\n",
      "dog.jpg\n",
      "dog.png\n",
      "email.txt\n",
      "emails.txt\n",
      "ftemps.txt\n",
      "lab.ipynb\n",
      "mathutil\n",
      "presentations\n",
      "program-1000.ipynb\n",
      "program-1001.ipynb\n",
      "program-1002.ipynb\n",
      "program-1003.ipynb\n",
      "program-1004.ipynb\n",
      "program-1005.ipynb\n",
      "program-1006.ipynb\n",
      "program-1007.ipynb\n",
      "program-2000.ipynb\n",
      "program-2001.ipynb\n",
      "program-2002.ipynb\n",
      "program-2003.ipynb\n",
      "Program-3001.ipynb\n",
      "program-3002.ipynb\n",
      "program-3003.ipynb\n",
      "program-4002.ipynb\n",
      "program-5001.ipynb\n",
      "README.md\n",
      "recap.ipynb\n",
      "U1-0001.py\n",
      "util.py\n"
     ]
    }
   ],
   "metadata": {}
  },
  {
   "cell_type": "markdown",
   "source": [
    "## filter only subdirectories"
   ],
   "metadata": {}
  },
  {
   "cell_type": "code",
   "execution_count": 54,
   "source": [
    "list(filter(lambda f: os.path.isdir(os.path.join('.', f)), os.listdir('.')))"
   ],
   "outputs": [
    {
     "output_type": "execute_result",
     "data": {
      "text/plain": [
       "['.git', 'mathutil', 'presentations']"
      ]
     },
     "metadata": {},
     "execution_count": 54
    }
   ],
   "metadata": {}
  },
  {
   "cell_type": "markdown",
   "source": [
    "## filter only files"
   ],
   "metadata": {}
  },
  {
   "cell_type": "code",
   "execution_count": 55,
   "source": [
    "list(filter(lambda f: os.path.isfile(os.path.join('.', f)), os.listdir('.')))"
   ],
   "outputs": [
    {
     "output_type": "execute_result",
     "data": {
      "text/plain": [
       "['ctemps.txt',\n",
       " 'dog.jpg',\n",
       " 'dog.png',\n",
       " 'email.txt',\n",
       " 'emails.txt',\n",
       " 'ftemps.txt',\n",
       " 'lab.ipynb',\n",
       " 'program-1000.ipynb',\n",
       " 'program-1001.ipynb',\n",
       " 'program-1002.ipynb',\n",
       " 'program-1003.ipynb',\n",
       " 'program-1004.ipynb',\n",
       " 'program-1005.ipynb',\n",
       " 'program-1006.ipynb',\n",
       " 'program-1007.ipynb',\n",
       " 'program-2000.ipynb',\n",
       " 'program-2001.ipynb',\n",
       " 'program-2002.ipynb',\n",
       " 'program-2003.ipynb',\n",
       " 'Program-3001.ipynb',\n",
       " 'program-3002.ipynb',\n",
       " 'program-3003.ipynb',\n",
       " 'program-4002.ipynb',\n",
       " 'program-5001.ipynb',\n",
       " 'README.md',\n",
       " 'recap.ipynb',\n",
       " 'U1-0001.py',\n",
       " 'util.py']"
      ]
     },
     "metadata": {},
     "execution_count": 55
    }
   ],
   "metadata": {}
  },
  {
   "cell_type": "markdown",
   "source": [
    "## filter only .py files"
   ],
   "metadata": {}
  },
  {
   "cell_type": "code",
   "execution_count": 56,
   "source": [
    "list(filter(lambda f: os.path.isfile(os.path.join('.', f)) and f.endswith('.py'), os.listdir('.')))"
   ],
   "outputs": [
    {
     "output_type": "execute_result",
     "data": {
      "text/plain": [
       "['U1-0001.py', 'util.py']"
      ]
     },
     "metadata": {},
     "execution_count": 56
    }
   ],
   "metadata": {}
  },
  {
   "cell_type": "code",
   "execution_count": 64,
   "source": [
    "import glob\r\n",
    "glob.glob('*.py')"
   ],
   "outputs": [
    {
     "output_type": "execute_result",
     "data": {
      "text/plain": [
       "['U1-0001.py', 'util.py']"
      ]
     },
     "metadata": {},
     "execution_count": 64
    }
   ],
   "metadata": {}
  },
  {
   "cell_type": "markdown",
   "source": [
    "## File Attibutes"
   ],
   "metadata": {}
  },
  {
   "cell_type": "code",
   "execution_count": 57,
   "source": [
    "os.stat(os.path.curdir)"
   ],
   "outputs": [
    {
     "output_type": "execute_result",
     "data": {
      "text/plain": [
       "os.stat_result(st_mode=16895, st_ino=1407374883618116, st_dev=985140597, st_nlink=1, st_uid=0, st_gid=0, st_size=4096, st_atime=1631525825, st_mtime=1631510356, st_ctime=1622875743)"
      ]
     },
     "metadata": {},
     "execution_count": 57
    }
   ],
   "metadata": {}
  },
  {
   "cell_type": "markdown",
   "source": [
    "## Creating and removing directories"
   ],
   "metadata": {}
  },
  {
   "cell_type": "code",
   "execution_count": 58,
   "source": [
    "os.mkdir('anand')"
   ],
   "outputs": [],
   "metadata": {}
  },
  {
   "cell_type": "code",
   "execution_count": 59,
   "source": [
    "os.makedirs('anand/subdir/level1')"
   ],
   "outputs": [],
   "metadata": {}
  },
  {
   "cell_type": "code",
   "execution_count": 60,
   "source": [
    "os.rmdir('anand/subdir/level1')"
   ],
   "outputs": [],
   "metadata": {}
  },
  {
   "cell_type": "code",
   "execution_count": 63,
   "source": [
    "os.removedirs('anand/subdir')"
   ],
   "outputs": [],
   "metadata": {}
  },
  {
   "cell_type": "markdown",
   "source": [
    "## writing log files"
   ],
   "metadata": {}
  },
  {
   "cell_type": "code",
   "execution_count": 10,
   "source": [
    "import logging"
   ],
   "outputs": [],
   "metadata": {}
  },
  {
   "cell_type": "markdown",
   "source": [
    "## severity levels in increasing order: DEBUG INFO WARNING ERROR CRITICAL"
   ],
   "metadata": {}
  },
  {
   "cell_type": "code",
   "execution_count": 2,
   "source": [
    "logging.debug('This is a debug message')\r\n",
    "logging.info('This is an info message')\r\n",
    "logging.warning('This is a warning message')\r\n",
    "logging.error('This is an error message')\r\n",
    "logging.critical('This is a critical message')"
   ],
   "outputs": [
    {
     "output_type": "stream",
     "name": "stderr",
     "text": [
      "WARNING:root:This is a warning message\n",
      "ERROR:root:This is an error message\n",
      "CRITICAL:root:This is a critical message\n"
     ]
    }
   ],
   "metadata": {}
  },
  {
   "cell_type": "markdown",
   "source": [
    "## by default, the logging module logs the messages with a severity level of WARNING or above"
   ],
   "metadata": {}
  },
  {
   "cell_type": "code",
   "execution_count": 11,
   "source": [
    "logging.basicConfig(level=logging.DEBUG)"
   ],
   "outputs": [],
   "metadata": {}
  },
  {
   "cell_type": "code",
   "execution_count": 12,
   "source": [
    "logging.debug('This is a debug message')\r\n",
    "logging.info('This is an info message')\r\n",
    "logging.warning('This is a warning message')\r\n",
    "logging.error('This is an error message')\r\n",
    "logging.critical('This is a critical message')"
   ],
   "outputs": [
    {
     "output_type": "stream",
     "name": "stderr",
     "text": [
      "WARNING:root:This is a warning message\n",
      "ERROR:root:This is an error message\n",
      "CRITICAL:root:This is a critical message\n"
     ]
    }
   ],
   "metadata": {}
  },
  {
   "cell_type": "code",
   "execution_count": 13,
   "source": [
    "logging.basicConfig(filename='app.log', filemode='w', format='%(asctime)s - %(name)s - %(process)d - %(levelname)s - %(message)s', level = logging.DEBUG)"
   ],
   "outputs": [],
   "metadata": {}
  },
  {
   "cell_type": "code",
   "execution_count": 14,
   "source": [
    "logging.debug('This is a debug message')\r\n",
    "logging.info('This is an info message')\r\n",
    "logging.warning('This is a warning message')\r\n",
    "logging.error('This is an error message')\r\n",
    "logging.critical('This is a critical message')"
   ],
   "outputs": [
    {
     "output_type": "stream",
     "name": "stderr",
     "text": [
      "WARNING:root:This is a warning message\n",
      "ERROR:root:This is an error message\n",
      "CRITICAL:root:This is a critical message\n"
     ]
    }
   ],
   "metadata": {}
  }
 ],
 "metadata": {
  "orig_nbformat": 4,
  "language_info": {
   "name": "python",
   "version": "3.9.5",
   "mimetype": "text/x-python",
   "codemirror_mode": {
    "name": "ipython",
    "version": 3
   },
   "pygments_lexer": "ipython3",
   "nbconvert_exporter": "python",
   "file_extension": ".py"
  },
  "kernelspec": {
   "name": "python3",
   "display_name": "Python 3.9.5 64-bit"
  },
  "interpreter": {
   "hash": "ac59ebe37160ed0dfa835113d9b8498d9f09ceb179beaac4002f036b9467c963"
  }
 },
 "nbformat": 4,
 "nbformat_minor": 2
}