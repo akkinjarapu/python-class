{
 "cells": [
  {
   "cell_type": "markdown",
   "source": [
    "## The Behavior of Terminal-Based and GUI-Based Programs"
   ],
   "metadata": {}
  },
  {
   "cell_type": "markdown",
   "source": [
    "## Terminal-Based Programs:\r\n",
    "## 1.The user is constrained to a definite sequence of prompts for inputs. once the input is entered, there is no way to go back and change it.\r\n",
    "## 2. To obtain result for a different set of inputs, the user has to re-run the program and needs to re-enter all the inputs\r\n",
    "## These drawbacks are eliminated with GUI-Based programs "
   ],
   "metadata": {}
  },
  {
   "cell_type": "code",
   "execution_count": 1,
   "source": [
    "from breezypythongui import EasyFrame\r\n",
    "\r\n",
    "class LabelDemo(EasyFrame):\r\n",
    "    def __init__(self, title, width, height, background, resizable):\r\n",
    "        super().__init__(title=title, width=width, height=height, background=background, resizable=resizable)\r\n",
    "        self.addLabel('Hello World!', row = 0, column = 0)"
   ],
   "outputs": [],
   "metadata": {}
  },
  {
   "cell_type": "code",
   "execution_count": 6,
   "source": [
    "title = 'First GUI Program'\r\n",
    "width, height = 400, 400\r\n",
    "background = 'white'\r\n",
    "resizable = False\r\n",
    "LabelDemo(title, width, height, background, resizable).mainloop()"
   ],
   "outputs": [],
   "metadata": {}
  },
  {
   "cell_type": "code",
   "execution_count": 7,
   "source": [
    "ld = LabelDemo(title, width, height, background, resizable)\r\n",
    "ld.setBackground('yellow')\r\n",
    "ld.mainloop()"
   ],
   "outputs": [],
   "metadata": {}
  },
  {
   "cell_type": "code",
   "execution_count": 8,
   "source": [
    "class LayoutDemo(EasyFrame):\r\n",
    "    def __init__(self):\r\n",
    "        super().__init__(self)\r\n",
    "        self.addLabel('(0, 0)', row = 0, column = 0)\r\n",
    "        self.addLabel('(0, 1)', row = 0, column = 1)\r\n",
    "        self.addLabel('(1, 0)', row = 1, column = 0, columnspan=2)"
   ],
   "outputs": [],
   "metadata": {}
  },
  {
   "cell_type": "code",
   "execution_count": 9,
   "source": [
    "LayoutDemo().mainloop()"
   ],
   "outputs": [],
   "metadata": {}
  },
  {
   "cell_type": "code",
   "execution_count": 10,
   "source": [
    "class LayoutDemo(EasyFrame):\r\n",
    "    def __init__(self):\r\n",
    "        super().__init__(self)\r\n",
    "        self.addLabel('(0, 0)', row = 0, column = 0)\r\n",
    "        self.addLabel('(0, 1)', row = 0, column = 1)\r\n",
    "        self.addLabel('(1, 0)', row = 1, column = 0, columnspan=2, sticky='NSEW')"
   ],
   "outputs": [],
   "metadata": {}
  },
  {
   "cell_type": "code",
   "execution_count": 11,
   "source": [
    "LayoutDemo().mainloop()"
   ],
   "outputs": [],
   "metadata": {}
  },
  {
   "cell_type": "code",
   "execution_count": 20,
   "source": [
    "from tkinter import PhotoImage\r\n",
    "from tkinter.font import Font\r\n",
    "\r\n",
    "class ImageDemo(EasyFrame):\r\n",
    "    def __init__(self):\r\n",
    "        super().__init__(self)\r\n",
    "        self.setResizable(False)\r\n",
    "        self.image = PhotoImage(file='anim.gif')\r\n",
    "        imageLabel = self.addLabel(text='', row=0, column=0, sticky='NSEW')\r\n",
    "        imageLabel['image'] = self.image\r\n",
    "        textLabel = self.addLabel(text='GIF Images Only', row=1, column=0, sticky='NSEW')\r\n",
    "        font = Font(family='Verdana', size=20, slant='italic')\r\n",
    "        textLabel['font'] = font\r\n",
    "        textLabel['foreground'] = 'blue'"
   ],
   "outputs": [],
   "metadata": {}
  },
  {
   "cell_type": "code",
   "execution_count": 21,
   "source": [
    "ImageDemo().mainloop()"
   ],
   "outputs": [],
   "metadata": {}
  },
  {
   "cell_type": "markdown",
   "source": [
    "# demonstrating input output Integer, button and dialog"
   ],
   "metadata": {}
  },
  {
   "cell_type": "code",
   "execution_count": 24,
   "source": [
    "class SimpleDemo(EasyFrame):\r\n",
    "    def __init__(self):\r\n",
    "        super().__init__(self)\r\n",
    "        self.setResizable(False)\r\n",
    "        self.addLabel('Text To Repeat', row=0, column=0)\r\n",
    "        self.text = self.addTextField(text='', row=0, column=1)\r\n",
    "        self.addLabel('Times To Repeat', row=1, column=0)\r\n",
    "        self.times = self.addIntegerField(value=0, row=1, column=1)\r\n",
    "        self.addButton('Show', row=2, column=0, columnspan=2, command=self.show)\r\n",
    "\r\n",
    "    def show(self):\r\n",
    "        self.message = self.text.getText() * self.times.getNumber()\r\n",
    "        self.messageBox(title='Result', message=self.message)\r\n"
   ],
   "outputs": [],
   "metadata": {}
  },
  {
   "cell_type": "code",
   "execution_count": 25,
   "source": [
    "SimpleDemo().mainloop()"
   ],
   "outputs": [],
   "metadata": {}
  }
 ],
 "metadata": {
  "orig_nbformat": 4,
  "language_info": {
   "name": "python",
   "version": "3.9.5",
   "mimetype": "text/x-python",
   "codemirror_mode": {
    "name": "ipython",
    "version": 3
   },
   "pygments_lexer": "ipython3",
   "nbconvert_exporter": "python",
   "file_extension": ".py"
  },
  "kernelspec": {
   "name": "python3",
   "display_name": "Python 3.9.5 64-bit"
  },
  "interpreter": {
   "hash": "ac59ebe37160ed0dfa835113d9b8498d9f09ceb179beaac4002f036b9467c963"
  }
 },
 "nbformat": 4,
 "nbformat_minor": 2
}