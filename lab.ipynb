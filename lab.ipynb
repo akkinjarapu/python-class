{
 "cells": [
  {
   "cell_type": "markdown",
   "source": [
    "## 1.1 Write a program that asks the user for a weight in kilograms and converts it to pounds. There are 2.2 pounds in a kilogram"
   ],
   "metadata": {}
  },
  {
   "cell_type": "code",
   "execution_count": 1,
   "source": [
    "kilograms = float(input('Enter weight in Kilograms: '))\r\n",
    "pounds = kilograms * 2.2\r\n",
    "print(str(kilograms) + ' Kilograms = ' + str(pounds) + ' Pounds')\r\n",
    "print('%f kilograms = %.2f Pounds'%(kilograms, pounds))\r\n",
    "print('{} Kilograms = {:.2f} pounds'.format(kilograms, pounds))\r\n",
    "print('{0} Kilograms = {1:.2f} pounds'.format(kilograms, pounds))\r\n",
    "print('{kgs} Kilograms = {pnds:.2f} pounds'.format(kgs=kilograms, pnds=pounds))\r\n",
    "print('{kgs} Kilograms = {pnds:.2f} pounds'.format_map({'kgs':kilograms, 'pnds':pounds}))\r\n",
    "print(f'{kilograms} Kilograms = {pounds:.2f} Pounds')\r\n",
    "print(f'{kilograms=} and {pounds=:.2f} are equivalent')"
   ],
   "outputs": [
    {
     "output_type": "stream",
     "name": "stdout",
     "text": [
      "10.0 Kilograms = 22.0 Pounds\n",
      "10.000000 kilograms = 22.00 Pounds\n",
      "10.0 Kilograms = 22.00 pounds\n",
      "10.0 Kilograms = 22.00 pounds\n",
      "10.0 Kilograms = 22.00 pounds\n",
      "10.0 Kilograms = 22.00 pounds\n",
      "10.0 Kilograms = 22.00 Pounds\n",
      "kilograms=10.0 and pounds=22.00 are equivalent\n"
     ]
    }
   ],
   "metadata": {}
  },
  {
   "cell_type": "markdown",
   "source": [
    "## 1.2 Write a program that asks the user to enter three numbers (use three separate input statements). Create variables called total and average that hold the sum and average of the three numbers and print out the values of total and average"
   ],
   "metadata": {}
  },
  {
   "cell_type": "code",
   "execution_count": 2,
   "source": [
    "num1 = int(input('Enter First Number: '))\r\n",
    "num2 = int(input('Enter Second Number: '))\r\n",
    "num3 = int(input('Enter Third Number: '))\r\n",
    "total = num1 + num2 + num3\r\n",
    "average = total / 3\r\n",
    "print(f'{num1} + {num2} + {num3} = {total}')\r\n",
    "print(f'Average({num1}, {num2}, {num3}) = {average:.2f}')"
   ],
   "outputs": [
    {
     "output_type": "stream",
     "name": "stdout",
     "text": [
      "10 + 20 + 30 = 60\n",
      "Average(10, 20, 30) = 20.00\n"
     ]
    }
   ],
   "metadata": {}
  },
  {
   "cell_type": "markdown",
   "source": [
    "## 2.1 Write a program that uses a for loop to print the numbers 8,11,14,17,20,...,83,86,89"
   ],
   "metadata": {}
  },
  {
   "cell_type": "code",
   "execution_count": 3,
   "source": [
    "# method-1 (drawback: ends with comma)\r\n",
    "for val in range(8,90,3):\r\n",
    "    print(val, end=',')\r\n",
    "print()\r\n",
    "\r\n",
    "# method-2 (drawback: starts with comma)\r\n",
    "for val in range(8,90,3):\r\n",
    "    print(',' + str(val), end='')\r\n",
    "print()\r\n",
    "\r\n",
    "# method-3 (efficient)\r\n",
    "for index, val in enumerate(range(8,90,3)):\r\n",
    "    print(val, end='') if index == 0 else print(',' + str(val), end='')\r\n",
    "print()\r\n",
    "\r\n",
    "# method-3 (improved and efficient)\r\n",
    "for index, val in enumerate(range(8,90,3)):\r\n",
    "    print(('' if index == 0 else ',') + str(val), end='')\r\n",
    "print()\r\n",
    "\r\n",
    "# method-4 (preferred)\r\n",
    "print(','.join([str(val) for val in range(8,90,3)]))\r\n",
    "\r\n",
    "# method-5 (confusing)\r\n",
    "m = map(lambda x: x if x == 8 else ','+str(x), [val for val in range(8,90,3)])\r\n",
    "print(*list(m), sep='')"
   ],
   "outputs": [
    {
     "output_type": "stream",
     "name": "stdout",
     "text": [
      "8,11,14,17,20,23,26,29,32,35,38,41,44,47,50,53,56,59,62,65,68,71,74,77,80,83,86,89,\n",
      ",8,11,14,17,20,23,26,29,32,35,38,41,44,47,50,53,56,59,62,65,68,71,74,77,80,83,86,89\n",
      "8,11,14,17,20,23,26,29,32,35,38,41,44,47,50,53,56,59,62,65,68,71,74,77,80,83,86,89\n",
      "8,11,14,17,20,23,26,29,32,35,38,41,44,47,50,53,56,59,62,65,68,71,74,77,80,83,86,89\n",
      "8,11,14,17,20,23,26,29,32,35,38,41,44,47,50,53,56,59,62,65,68,71,74,77,80,83,86,89\n",
      "8,11,14,17,20,23,26,29,32,35,38,41,44,47,50,53,56,59,62,65,68,71,74,77,80,83,86,89\n"
     ]
    }
   ],
   "metadata": {}
  },
  {
   "cell_type": "markdown",
   "source": [
    "## 2.2 Write a program that asks the user for their name and how many times to print it. The program should print out the user’s name the specified number of times"
   ],
   "metadata": {}
  },
  {
   "cell_type": "code",
   "execution_count": 4,
   "source": [
    "name = input('Enter your name')\r\n",
    "times = int(input('Enter the number of times to repeat: '))\r\n",
    "# prints on same line\r\n",
    "print('') if times <= 0 else print((name + ' ') * times)\r\n",
    "# prints on separate lines\r\n",
    "print('') if times <= 0 else print(times * (name + '\\n'))\r\n",
    "# test with times = 0 and times = 1 and times > 1"
   ],
   "outputs": [
    {
     "output_type": "stream",
     "name": "stdout",
     "text": [
      "AEC AEC AEC \n",
      "AEC\n",
      "AEC\n",
      "AEC\n",
      "\n"
     ]
    }
   ],
   "metadata": {}
  },
  {
   "cell_type": "markdown",
   "source": [
    "## 3.1 Use a for loop to print a triangle like the one below. Allow the user to specify how high the triangle should be\r\n",
    "### *\r\n",
    "### **\r\n",
    "### ***"
   ],
   "metadata": {}
  },
  {
   "cell_type": "code",
   "execution_count": 5,
   "source": [
    "height = int(input('Enter the triangle height: '))\r\n",
    "for i in range(1, height + 1): print('*' * i)"
   ],
   "outputs": [
    {
     "output_type": "stream",
     "name": "stdout",
     "text": [
      "*\n",
      "**\n",
      "***\n",
      "****\n"
     ]
    }
   ],
   "metadata": {}
  },
  {
   "cell_type": "markdown",
   "source": [
    "## 3.2 Generate a random number between 1 and 10. Ask the user to guess the number and print a message based on whether they get it right or not"
   ],
   "metadata": {}
  },
  {
   "cell_type": "code",
   "execution_count": 6,
   "source": [
    "import random\r\n",
    "system_guess = random.randint(1, 10)\r\n",
    "user_guess = int(input('Guess the number'))\r\n",
    "print(f'{user_guess=} and {system_guess=}')\r\n",
    "\r\n",
    "# method-1 (c-style)\r\n",
    "if user_guess == system_guess :\r\n",
    "    print('Yes, your guess is correct')\r\n",
    "else:\r\n",
    "    print('No, your guess is wrong')\r\n",
    "\r\n",
    "# method-2 (python style)\r\n",
    "res = {True:'Yes, your guess is correct', False: 'No, your guess is wrong'}\r\n",
    "print(res[user_guess == system_guess])"
   ],
   "outputs": [
    {
     "output_type": "stream",
     "name": "stdout",
     "text": [
      "user_guess=5 and system_guess=8\n",
      "No, your guess is wrong\n",
      "No, your guess is wrong\n"
     ]
    }
   ],
   "metadata": {}
  },
  {
   "cell_type": "markdown",
   "source": [
    "## 3.3 Write a program that asks the user for two numbers and prints Close if the numbers are within .001 of each other and Not close otherwise"
   ],
   "metadata": {}
  },
  {
   "cell_type": "code",
   "execution_count": 9,
   "source": [
    "def test(num1, num2):\r\n",
    "    diff = round(abs(num1 - num2), 3)\r\n",
    "    return diff, 'Close' if diff <= 0.001 else 'Not Close'\r\n",
    "\r\n",
    "num1 = float(input('Enter First Number: '))\r\n",
    "num2 = float(input('Enter Second Number: '))\r\n",
    "diff, msg = test(num1, num2)\r\n",
    "print(f'{num1=}, {num2=} and {diff=}, {msg=}')\r\n",
    "\r\n",
    "num1, num2 = 10.5, 10.51\r\n",
    "diff, msg = test(num1, num2)\r\n",
    "print(f'{num1=}, {num2=} and {diff=}, {msg=}')\r\n",
    "\r\n",
    "num1, num2 = 10.5, 10.501\r\n",
    "diff, msg = test(num1, num2)\r\n",
    "print(f'{num1=}, {num2=} and {diff=}, {msg=}')"
   ],
   "outputs": [
    {
     "output_type": "stream",
     "name": "stdout",
     "text": [
      "num1=6.5, num2=6.6 and diff=0.1, msg='Not Close'\n",
      "num1=10.5, num2=10.51 and diff=0.01, msg='Not Close'\n",
      "num1=10.5, num2=10.501 and diff=0.001, msg='Close'\n"
     ]
    }
   ],
   "metadata": {}
  },
  {
   "cell_type": "markdown",
   "source": [
    "## 4.1 Write a program that asks the user to enter a word and prints out whether that word contains any vowels"
   ],
   "metadata": {}
  },
  {
   "cell_type": "code",
   "execution_count": 8,
   "source": [
    "word = input('Enter a word: ')\r\n",
    "flag = True\r\n",
    "for ch in word:\r\n",
    "    if ch in 'aeiouAEIOU':\r\n",
    "        #print(f'{word} contains vowels')\r\n",
    "        flag = False\r\n",
    "        break\r\n",
    "# if flag: print(f'{word} contains NO vowels')\r\n",
    "print(f\"{word} contains {'NO ' if flag else ''}vowels\")"
   ],
   "outputs": [
    {
     "output_type": "stream",
     "name": "stdout",
     "text": [
      "why contains NO vowels\n"
     ]
    }
   ],
   "metadata": {}
  },
  {
   "cell_type": "code",
   "execution_count": 9,
   "source": [
    "word = input('Enter a word: ')\r\n",
    "for ch in word:\r\n",
    "    if ch in 'aeiouAEIOU':\r\n",
    "        print(f'{word} contains vowels')\r\n",
    "        break\r\n",
    "else: print(f'{word} contains NO vowels')"
   ],
   "outputs": [
    {
     "output_type": "stream",
     "name": "stdout",
     "text": [
      "Aditya contains vowels\n"
     ]
    }
   ],
   "metadata": {}
  },
  {
   "cell_type": "code",
   "execution_count": 10,
   "source": [
    "def test(word):\r\n",
    "    for ch in word:\r\n",
    "        if ch in 'aeiouAEIOU':\r\n",
    "            print(f'{word} contains vowels')\r\n",
    "            return\r\n",
    "    print(f'{word} contains NO vowels')\r\n",
    "\r\n",
    "test('India')\r\n",
    "test('rythm')"
   ],
   "outputs": [
    {
     "output_type": "stream",
     "name": "stdout",
     "text": [
      "India contains vowels\n",
      "rythm contains NO vowels\n"
     ]
    }
   ],
   "metadata": {}
  },
  {
   "cell_type": "markdown",
   "source": [
    "## 4.2 Write a program that asks the user to enter two strings. The program should then check to see if the strings are of the same length. If they are not, the program should print an appropriate message and exit. If they are of the same length, the program should alternate the characters of the two strings. For example, if the user enters abcde and ABCDE the program should print out AaBbCcDdEe"
   ],
   "metadata": {}
  },
  {
   "cell_type": "code",
   "execution_count": 8,
   "source": [
    "def logic1(str1, str2):\r\n",
    "    l1 = len(str1)\r\n",
    "    l2 = len(str2)\r\n",
    "    if l1 != l2:\r\n",
    "        print(f'len({str1}) = {l1} and len({str2}) = {l2}')\r\n",
    "    else:\r\n",
    "        # Method-1\r\n",
    "        str = ''\r\n",
    "        for i in range(l1):\r\n",
    "            str += str1[i] + str2[i]\r\n",
    "        print(str1, str2, str)\r\n",
    "        #method-2\r\n",
    "        print(''.join([i[0]+i[1] for i in zip(str1, str2)]))\r\n",
    "\r\n",
    "str1 = input(\"Enter First String: \")\r\n",
    "str2 = input(\"Enter Second String: \")\r\n",
    "logic1(str1, str2)\r\n",
    "print('---------------------------------')\r\n",
    "logic1('Aditya', 'Anand')\r\n",
    "print('---------------------------------')\r\n",
    "logic1('Anand', 'Kumar')"
   ],
   "outputs": [
    {
     "output_type": "stream",
     "name": "stdout",
     "text": [
      "AEC ACE AAECCE\n",
      "AAECCE\n",
      "---------------------------------\n",
      "len(Aditya) = 6 and len(Anand) = 5\n",
      "---------------------------------\n",
      "Anand Kumar AKnuamnadr\n",
      "AKnuamnadr\n"
     ]
    }
   ],
   "metadata": {}
  },
  {
   "cell_type": "markdown",
   "source": [
    "## 4.3 Write a program that asks the user for a large integer and inserts commas into it according to the standard American convention for commas in large numbers. For instance, if the user enters 1000000, the output should be 1,000,000"
   ],
   "metadata": {}
  },
  {
   "cell_type": "code",
   "execution_count": 16,
   "source": [
    "num = int(input('Enter a large number: '))\r\n",
    "print(f'{num:,}')\r\n",
    "\r\n",
    "import locale\r\n",
    "locale.setlocale(locale.LC_ALL, 'en-us')\r\n",
    "print(locale.format_string(\"%d\", num, grouping=True))\r\n",
    "\r\n",
    "locale.setlocale(locale.LC_ALL, '')\r\n",
    "print(locale.format_string(\"%d\", num, grouping=True))"
   ],
   "outputs": [
    {
     "output_type": "stream",
     "name": "stdout",
     "text": [
      "10,000,000\n",
      "10,000,000\n",
      "1,00,00,000\n"
     ]
    }
   ],
   "metadata": {}
  },
  {
   "cell_type": "markdown",
   "source": [
    "## 4.4 In algebraic expressions, the symbol for multiplication is often left out, as in 3x+4y or 3(x+5). Computers prefer those expressions to include the multiplication symbol, like 3*x+4*y or 3*(x+5). Write a program that asks the user for an algebraic expression and then inserts multiplication symbols where appropriate\r\n",
    "\r\n",
    "### a) Digits follwed by letters or open brace\r\n",
    "### b) alpha and alpha numeric or open brace\r\n",
    "### c) closing brace and alpha numeric or open brace"
   ],
   "metadata": {}
  },
  {
   "cell_type": "code",
   "execution_count": 17,
   "source": [
    "expr = input('Enter a mathematical expression: ')\r\n",
    "print(expr)\r\n",
    "conv_expr = ''\r\n",
    "for i in range(len(expr)-1):\r\n",
    "    conv_expr += expr[i]\r\n",
    "    if expr[i].isdigit() and (expr[i+1].isalpha() or expr[i+1] == '('):\r\n",
    "        conv_expr += '*'\r\n",
    "    elif expr[i].isalpha() and (expr[i+1].isalnum() or expr[i+1].isdecimal()):\r\n",
    "        conv_expr += '*'\r\n",
    "    elif expr[i] == ')' and (expr[i+1] == '(' or expr[i+1].isalnum()):\r\n",
    "        conv_expr += '*'\r\n",
    "conv_expr += expr[i+1]\r\n",
    "print(conv_expr)"
   ],
   "outputs": [
    {
     "output_type": "stream",
     "name": "stdout",
     "text": [
      "100xy+56ab-(c/d)4m\n",
      "100*x*y+56*a*b-(c/d)*4*m\n"
     ]
    }
   ],
   "metadata": {}
  },
  {
   "cell_type": "markdown",
   "source": [
    "## 5.1 Write a program that generates a list of 20 random numbers between 1 and 100. \r\n",
    "### (a) Print the list. \r\n",
    "### (b) Print the average of the elements in the list. \r\n",
    "### (c) Print the largest and smallest values in the list. \r\n",
    "### (d) Print the second largest and second smallest entries in the list \r\n",
    "### (e) Print how many even numbers are in the list."
   ],
   "metadata": {}
  },
  {
   "cell_type": "code",
   "execution_count": 19,
   "source": [
    "import random\r\n",
    "num_list = [random.randint(1, 100) for i in range(20)]\r\n",
    "print(num_list)\r\n",
    "print('Average = {:.2f}'.format(sum(num_list) / 20))\r\n",
    "\r\n",
    "num_set = set(num_list)\r\n",
    "mn, mx = min(num_set), max(num_set)\r\n",
    "print(f'Lagrest Value = {mx} and Smallest Value = {mn}')\r\n",
    "\r\n",
    "num_set.remove(mn)\r\n",
    "num_set.remove(mx)\r\n",
    "mn, mx = min(num_set), max(num_set)\r\n",
    "print(f'Second Lagrest Value = {mx} and Second Smallest Value = {mn}')\r\n",
    "\r\n",
    "even_count = len([x for x in num_list if x & 1 == 0])\r\n",
    "print(f'Number of even numbers = {even_count}')"
   ],
   "outputs": [
    {
     "output_type": "stream",
     "name": "stdout",
     "text": [
      "[21, 80, 78, 16, 78, 60, 21, 95, 98, 17, 44, 17, 28, 38, 49, 10, 1, 98, 5, 12]\n",
      "Average = 43.30\n",
      "Lagrest Value = 98 and Smallest Value = 1\n",
      "Second Lagrest Value = 95 and Second Smallest Value = 5\n",
      "Number of even numbers = 12\n"
     ]
    }
   ],
   "metadata": {}
  },
  {
   "cell_type": "markdown",
   "source": [
    "## 5.2 Write a program that asks the user for an integer and creates a list that consists of the factors of that integer"
   ],
   "metadata": {}
  },
  {
   "cell_type": "code",
   "execution_count": 13,
   "source": [
    "import math\r\n",
    "\r\n",
    "def factors(num):\r\n",
    "    factors = [1] if num <= 1 else [1, num]\r\n",
    "    ci = 1\r\n",
    "    for i in range(2, int(math.sqrt(num)) + 1):\r\n",
    "        if num % i == 0:\r\n",
    "            factors.insert(ci, i)\r\n",
    "            d = num // i\r\n",
    "            if d != i:\r\n",
    "                ci += 1\r\n",
    "                factors.insert(ci, d)\r\n",
    "    return factors\r\n",
    "\r\n",
    "num = int(input('Enter an Integer value: '))\r\n",
    "print(num)\r\n",
    "print(*factors(num))\r\n",
    "\r\n",
    "print(*factors(1))\r\n",
    "print(*factors(2))\r\n",
    "print(*factors(63))\r\n",
    "print(*factors(64))\r\n",
    "print(*factors(23))"
   ],
   "outputs": [
    {
     "output_type": "stream",
     "name": "stdout",
     "text": [
      "49\n",
      "1 7 49\n",
      "1\n",
      "1 2\n",
      "1 3 7 9 21 63\n",
      "1 2 4 8 16 32 64\n",
      "1 23\n"
     ]
    }
   ],
   "metadata": {}
  },
  {
   "cell_type": "markdown",
   "source": [
    "## 5.3 Write a program that generates 100 random integers that are either 0 or 1. Then find the longest run of zeros in a row. For instance, the longest run of zeros in [1,0,1,1,0,0,0,0,1,0,0] is 4"
   ],
   "metadata": {}
  },
  {
   "cell_type": "code",
   "execution_count": 21,
   "source": [
    "import random\r\n",
    "\r\n",
    "def longest_zero_runlength(bin_list):\r\n",
    "    mrl = 0\r\n",
    "    rl = 0\r\n",
    "    p = 1\r\n",
    "    for x in bin_list:\r\n",
    "        if x == 0:\r\n",
    "            if p == 0:\r\n",
    "                rl += 1\r\n",
    "            else:\r\n",
    "                rl = 1\r\n",
    "                p = 0\r\n",
    "        elif p == 0:\r\n",
    "            mrl = max(mrl, rl)\r\n",
    "            p = 1\r\n",
    "    return mrl\r\n",
    "\r\n",
    "bin_list = [random.randint(0,1) for x in range(100)]\r\n",
    "print(bin_list)\r\n",
    "print(f'Longest run of zeros = {longest_zero_runlength(bin_list)}')"
   ],
   "outputs": [
    {
     "output_type": "stream",
     "name": "stdout",
     "text": [
      "[1, 0, 1, 1, 0, 0, 1, 1, 0, 1, 0, 0, 1, 0, 0, 1, 0, 0, 0, 0, 0, 0, 0, 0, 1, 0, 1, 1, 0, 1, 1, 0, 0, 0, 0, 0, 1, 1, 1, 1, 1, 1, 1, 1, 0, 1, 1, 1, 0, 1, 0, 0, 1, 1, 1, 1, 0, 1, 0, 0, 0, 0, 0, 0, 1, 1, 1, 0, 0, 0, 1, 0, 1, 0, 1, 1, 1, 0, 1, 0, 0, 1, 1, 0, 0, 0, 1, 1, 0, 0, 1, 0, 0, 1, 1, 0, 1, 1, 1, 1]\n",
      "Longest run of zeros = 8\n"
     ]
    }
   ],
   "metadata": {}
  },
  {
   "cell_type": "markdown",
   "source": [
    "## 6.1 Write a program that removes any repeated items from a list so that each item appears at most once. For instance, the list [1,1,2,3,4,3,0,0] would become [1,2,3,4,0]"
   ],
   "metadata": {}
  },
  {
   "cell_type": "code",
   "execution_count": 22,
   "source": [
    "list_with_dups = [1,2,1,3,4,3,0,2,0]\r\n",
    "list_without_dups_no_input_order = list(set(list_with_dups))\r\n",
    "print(*list_with_dups)\r\n",
    "print(*list_without_dups_no_input_order)\r\n",
    "\r\n",
    "list_without_dups = dict.fromkeys(list_with_dups)\r\n",
    "print(*list_without_dups)"
   ],
   "outputs": [
    {
     "output_type": "stream",
     "name": "stdout",
     "text": [
      "1 2 1 3 4 3 0 2 0\n",
      "0 1 2 3 4\n",
      "1 2 3 4 0\n"
     ]
    }
   ],
   "metadata": {}
  },
  {
   "cell_type": "markdown",
   "source": [
    "## 6.2 Write a program that asks the user to enter a length in feet. The program should then give the user the option to convert from feet into inches, yards, miles, millimeters, centimeters, meters, or kilometers. Say if the user enters a 1, then the program converts to inches, if they enter a 2, then the program converts to yards, etc. While this can be done with if statements,it is much shorter with lists and it is also easier to add new conversions if you use lists"
   ],
   "metadata": {}
  },
  {
   "cell_type": "code",
   "execution_count": 27,
   "source": [
    "units = ['inches', 'yards', 'miles', 'millimeters', 'centimeters', 'meters', 'kilometers']\r\n",
    "conv_from_feet = [12, 0.33333, 0.000189393939, 304.8, 30.48, 0.3048, 0.0003048]\r\n",
    "feets = float(input('Enter length in feets: '))\r\n",
    "for i, v in enumerate(units):\r\n",
    "    print(f'Enter {i + 1} to convert feets to {v}')\r\n",
    "i = int(input('Enter your choice')) - 1\r\n",
    "print(f'{feets} feets = {feets * conv_from_feet[i]:.2f} {units[i]}')"
   ],
   "outputs": [
    {
     "output_type": "stream",
     "name": "stdout",
     "text": [
      "Enter 1 to convert feets to inches\n",
      "Enter 2 to convert feets to yards\n",
      "Enter 3 to convert feets to miles\n",
      "Enter 4 to convert feets to millimeters\n",
      "Enter 5 to convert feets to centimeters\n",
      "Enter 6 to convert feets to meters\n",
      "Enter 7 to convert feets to kilometers\n",
      "10.0 feets = 3.05 meters\n"
     ]
    }
   ],
   "metadata": {}
  },
  {
   "cell_type": "markdown",
   "source": [
    "## 6.3 Write a python script to perform following operations:\r\n",
    "### i) Create a matrix and print it \r\n",
    "### ii) Perform Addition of 2 matrices\r\n",
    "### iii)Perform multiplication of 2 matrices"
   ],
   "metadata": {}
  },
  {
   "cell_type": "code",
   "execution_count": 29,
   "source": [
    "def create_matrix(rows, cols):\r\n",
    "    matrix = []\r\n",
    "    for r in range(rows):\r\n",
    "        row = []\r\n",
    "        for c in range(cols):\r\n",
    "            v = int(input(f'Enter element at row {r}, column {c} :'))\r\n",
    "            row.append(v)\r\n",
    "        matrix.append(row)\r\n",
    "    return matrix\r\n",
    "\r\n",
    "def mat_add(first, second):\r\n",
    "    matrix = []\r\n",
    "    if len(first) == len(second) and len(first[0]) == len(second[0]):\r\n",
    "        matrix = [[first[i][j] + second[i][j]  for j in range(len(first[0]))] for i in range(len(first))]\r\n",
    "    return matrix\r\n",
    "\r\n",
    "def mat_mul(first, second):\r\n",
    "    matrix = []\r\n",
    "    if len(first[0]) == len(second):\r\n",
    "        matrix = [[sum(a*b for a, b in zip(row, col)) for col in zip(*second)] for row in first]\r\n",
    "    return matrix\r\n",
    "\r\n",
    "def disp(matrix):\r\n",
    "    for row in matrix:\r\n",
    "        for val in row:\r\n",
    "            print(f'{val:3d}', end=' ')\r\n",
    "        print()\r\n",
    "\r\n",
    "rows = int(input('Enter number of rows: '))\r\n",
    "cols = int(input('Enter number of columns: '))\r\n",
    "mat1 = create_matrix(rows, cols)\r\n",
    "mat2 = create_matrix(rows, cols)\r\n",
    "print('------- MAT(1) ----------')\r\n",
    "disp(mat1)\r\n",
    "print('------- MAT(2) ----------')\r\n",
    "disp(mat2)\r\n",
    "res = mat_add(mat1, mat2)\r\n",
    "print('------- ADDITION ----------')\r\n",
    "disp(res)\r\n",
    "res = mat_mul(mat1, mat2)\r\n",
    "print('------- MULTIPLICATION ----------')\r\n",
    "disp(res)"
   ],
   "outputs": [
    {
     "output_type": "stream",
     "name": "stdout",
     "text": [
      "------- MAT(1) ----------\n",
      "  1   2 \n",
      "  3   4 \n",
      "------- MAT(2) ----------\n",
      "  1   2 \n",
      "  3   4 \n",
      "------- ADDITION ----------\n",
      "  2   4 \n",
      "  6   8 \n",
      "------- MULTIPLICATION ----------\n",
      "  7  10 \n",
      " 15  22 \n"
     ]
    }
   ],
   "metadata": {}
  },
  {
   "cell_type": "markdown",
   "source": [
    "## 7.1 Write a function called sum_digits that is given an integer num and returns the sum of the digits of num"
   ],
   "metadata": {}
  },
  {
   "cell_type": "code",
   "execution_count": 3,
   "source": [
    "def sum_digits(num):\r\n",
    "    return sum([int(d) for d in str(num)])\r\n",
    "\r\n",
    "print(sum_digits(123))"
   ],
   "outputs": [
    {
     "output_type": "stream",
     "name": "stdout",
     "text": [
      "6\n"
     ]
    }
   ],
   "metadata": {}
  },
  {
   "cell_type": "markdown",
   "source": [
    "## 7.2 Write a function called first_diff that is given two strings and returns the first location in which the strings differ. If the strings are identical, it should return -1"
   ],
   "metadata": {}
  },
  {
   "cell_type": "code",
   "execution_count": 4,
   "source": [
    "def first_diff(str1, str2):\r\n",
    "    ms = min(len(str1), len(str2))\r\n",
    "    for i in range(ms):\r\n",
    "        if str1[i] != str2[i]: return i\r\n",
    "    return -1\r\n",
    "\r\n",
    "print(first_diff('anand', 'anand'))\r\n",
    "print(first_diff('anand', 'ananth'))"
   ],
   "outputs": [
    {
     "output_type": "stream",
     "name": "stdout",
     "text": [
      "-1\n",
      "4\n"
     ]
    }
   ],
   "metadata": {}
  },
  {
   "cell_type": "markdown",
   "source": [
    "## 7.3 Write a function called number_of_factors that takes an integer and returns how many factors the number has"
   ],
   "metadata": {}
  },
  {
   "cell_type": "code",
   "execution_count": 14,
   "source": [
    "import math\r\n",
    "\r\n",
    "def number_of_factors(num):\r\n",
    "    count = 2\r\n",
    "    for i in range(2, int(math.sqrt(num)) + 1):\r\n",
    "        if num % i == 0:\r\n",
    "            count += 1 if num // i == i else 2\r\n",
    "    return count if num > 2 else num\r\n",
    "\r\n",
    "print(number_of_factors(1))\r\n",
    "print(number_of_factors(2))\r\n",
    "print(number_of_factors(12))\r\n",
    "print(number_of_factors(23))"
   ],
   "outputs": [
    {
     "output_type": "stream",
     "name": "stdout",
     "text": [
      "1\n",
      "2\n",
      "6\n",
      "2\n"
     ]
    }
   ],
   "metadata": {}
  },
  {
   "cell_type": "markdown",
   "source": [
    "## 7.4 Write a function called is_sorted that is given a list and returns True if the list is sorted and False otherwise"
   ],
   "metadata": {}
  },
  {
   "cell_type": "code",
   "execution_count": 6,
   "source": [
    "def is_sorted(nums):\r\n",
    "    if len(nums) <= 1:\r\n",
    "        return True\r\n",
    "    else:\r\n",
    "        desc = True if nums[0] > nums[1] else False\r\n",
    "        if desc:\r\n",
    "            for i in range(1, len(nums) - 1):\r\n",
    "                if nums[i] < nums[i+1]: return False\r\n",
    "            return True\r\n",
    "        else:\r\n",
    "            for i in range(1, len(nums) - 1):\r\n",
    "                if nums[i] > nums[i+1]: return False\r\n",
    "            return True\r\n",
    "\r\n",
    "print(is_sorted([]))\r\n",
    "print(is_sorted([1]))\r\n",
    "print(is_sorted([1, 2, 3]))\r\n",
    "print(is_sorted([3, 2, 1]))\r\n",
    "print(is_sorted([1, 3, 2]))"
   ],
   "outputs": [
    {
     "output_type": "stream",
     "name": "stdout",
     "text": [
      "True\n",
      "True\n",
      "True\n",
      "True\n",
      "False\n"
     ]
    }
   ],
   "metadata": {}
  },
  {
   "cell_type": "markdown",
   "source": [
    "## 8.1 Write a function called root that is given a number x and an integer n and returns x1/n . In the function definition, set the default value of n to 2"
   ],
   "metadata": {}
  },
  {
   "cell_type": "code",
   "execution_count": 15,
   "source": [
    "def root(x, n = 2, /):\r\n",
    "    return round(x ** (1/n), 3)\r\n",
    "\r\n",
    "print(root(4,2))\r\n",
    "print(root(81,4))\r\n",
    "print(root(2))"
   ],
   "outputs": [
    {
     "output_type": "stream",
     "name": "stdout",
     "text": [
      "2.0\n",
      "3.0\n",
      "1.414\n"
     ]
    }
   ],
   "metadata": {}
  },
  {
   "cell_type": "markdown",
   "source": [
    "## 8.2 Write a function called primes that is given a number n and returns a list of the first n primes. Let the default value of n be 100"
   ],
   "metadata": {}
  },
  {
   "cell_type": "code",
   "execution_count": 16,
   "source": [
    "import math\r\n",
    "def is_prime(n):\r\n",
    "    for k in range(2, int(math.sqrt(n)) + 1):\r\n",
    "        if n % k == 0: return False\r\n",
    "    return True\r\n",
    "\r\n",
    "def primes(n=100):\r\n",
    "    if n == 0: return []\r\n",
    "    elif n == 1: return [2]\r\n",
    "    else:\r\n",
    "        primes = [2]\r\n",
    "        k = 3\r\n",
    "        while n > 1:\r\n",
    "            if is_prime(k):\r\n",
    "                primes.append(k)\r\n",
    "                n -= 1\r\n",
    "            k += 2\r\n",
    "    return primes\r\n",
    "\r\n",
    "print(primes(0))\r\n",
    "print(primes(1))\r\n",
    "print(primes(2))\r\n",
    "print(primes(10))"
   ],
   "outputs": [
    {
     "output_type": "stream",
     "name": "stdout",
     "text": [
      "[]\n",
      "[2]\n",
      "[2, 3]\n",
      "[2, 3, 5, 7, 11, 13, 17, 19, 23, 29]\n"
     ]
    }
   ],
   "metadata": {}
  },
  {
   "cell_type": "markdown",
   "source": [
    "## 8.3 Write a function called merge that takes two already sorted lists of possibly different lengths, and merges them into a single sorted list\r\n",
    "### a) Using sort method  b) without using sort method"
   ],
   "metadata": {}
  },
  {
   "cell_type": "code",
   "execution_count": 17,
   "source": [
    "def merge1(lst1, lst2):\r\n",
    "    return sorted(lst1 + lst2)\r\n",
    "\r\n",
    "def merge2(lst1, lst2):\r\n",
    "    l1 = len(lst1)\r\n",
    "    l2 = len(lst2)\r\n",
    "    i1 = 0\r\n",
    "    i2 = 0\r\n",
    "    res = []\r\n",
    "    while i1 < l1 and i2 < l2:\r\n",
    "        if lst1[i1] <= lst2[i2]:\r\n",
    "            res.append(lst1[i1])\r\n",
    "            i1 += 1\r\n",
    "        else:\r\n",
    "            res.append(lst2[i2])\r\n",
    "            i2 += 1\r\n",
    "    \r\n",
    "    while i1 < l1:\r\n",
    "        res.append(lst1[i1])\r\n",
    "        i1 += 1\r\n",
    "\r\n",
    "    while i2 < l2:\r\n",
    "        res.append(lst2[i2])\r\n",
    "        i2 += 1\r\n",
    "    \r\n",
    "    return res\r\n",
    "\r\n",
    "print(merge1([1,3,5], [2,4,6]))\r\n",
    "print(merge2([1,3,5], [2,4,6]))\r\n",
    "print(merge2([1,3,5], [2,4,6,7,8]))\r\n",
    "print(merge2([1,3,5], [2]))"
   ],
   "outputs": [
    {
     "output_type": "stream",
     "name": "stdout",
     "text": [
      "[1, 2, 3, 4, 5, 6]\n",
      "[1, 2, 3, 4, 5, 6]\n",
      "[1, 2, 3, 4, 5, 6, 7, 8]\n",
      "[1, 2, 3, 5]\n"
     ]
    }
   ],
   "metadata": {}
  },
  {
   "cell_type": "markdown",
   "source": [
    "## 8.4 Write a program that asks the user for a word and finds all the smaller words that can be made from the letters of that word. The number of occurrences of a letter in a smaller word can’t exceed the number of occurrences of the letter in the user’s word"
   ],
   "metadata": {}
  },
  {
   "cell_type": "code",
   "execution_count": 25,
   "source": [
    "from itertools import permutations\r\n",
    "\r\n",
    "def subwords(word):\r\n",
    "    res = set()\r\n",
    "    for i in range(1, len(word)):\r\n",
    "        for p in permutations(word, i):\r\n",
    "            res.add(''.join(p))\r\n",
    "    return list(res)\r\n",
    "\r\n",
    "print(*subwords('and'))\r\n",
    "print(*subwords('ass'))"
   ],
   "outputs": [
    {
     "output_type": "stream",
     "name": "stdout",
     "text": [
      "a d na an n dn nd da ad\n",
      "a as ss s sa\n"
     ]
    }
   ],
   "metadata": {}
  },
  {
   "cell_type": "markdown",
   "source": [
    "## 9.1 Write a program that reads a file consisting of email addresses, each on its own line. Your program should print out a string consisting of those email addresses separated by semicolons"
   ],
   "metadata": {}
  },
  {
   "cell_type": "code",
   "execution_count": 26,
   "source": [
    "with open('emails.txt') as f:\r\n",
    "    lines = [x.strip() for x in f.readlines()]\r\n",
    "    print(*lines, sep=';', end=' ')"
   ],
   "outputs": [
    {
     "output_type": "stream",
     "name": "stdout",
     "text": [
      "akkinjarapu@gmail.com;anandakumark@aec.edu.in;venkateshm@aec.edu.in "
     ]
    }
   ],
   "metadata": {}
  },
  {
   "cell_type": "markdown",
   "source": [
    "## 9.2 Write a program that reads a list of temperatures from a file called temps.txt, converts those temperatures to Fahrenheit, and writes the results to a file called ftemps.txt"
   ],
   "metadata": {}
  },
  {
   "cell_type": "code",
   "execution_count": 27,
   "source": [
    "with open('ctemps.txt') as f1, open('ftemps.txt', 'w') as f2:\r\n",
    "    f2.writelines([str(int(ct.strip()) * 9 / 5 +32) + '\\n' for ct in f1.readlines()])"
   ],
   "outputs": [],
   "metadata": {}
  },
  {
   "cell_type": "markdown",
   "source": [
    "## 9.3 Write a program to count frequency of characters in a given file"
   ],
   "metadata": {}
  },
  {
   "cell_type": "code",
   "execution_count": 28,
   "source": [
    "fc = {}\r\n",
    "with open('emails.txt') as f:\r\n",
    "    for ch in f.read():\r\n",
    "        if ch.isprintable():\r\n",
    "            fc[ch] = fc.get(ch, 0) + 1\r\n",
    "print(fc)"
   ],
   "outputs": [
    {
     "output_type": "stream",
     "name": "stdout",
     "text": [
      "{'a': 11, 'k': 5, 'i': 4, 'n': 6, 'j': 1, 'r': 2, 'p': 1, 'u': 4, '@': 3, 'g': 1, 'm': 4, 'l': 1, '.': 5, 'c': 3, 'o': 1, 'd': 3, 'e': 6, 'v': 1, 't': 1, 's': 1, 'h': 1}\n"
     ]
    }
   ],
   "metadata": {}
  },
  {
   "cell_type": "markdown",
   "source": [
    "## 10.1 Write a class called Product. The class should have fields called name, amount, and price, holding the product’s name, the number of items of that product in stock, and the regular price of the product. There should be a method get_price that receives the number of items to be bought and returns a the cost of buying that many items, where the regular price is charged for orders of less than 10 items, a 10% discount is applied for orders of between 10 and 99 items, and a 20% discount is applied for orders of 100 or more items. There should also be a method called make_purchase that receives the number of items to be bought and decreases amount by that much"
   ],
   "metadata": {}
  },
  {
   "cell_type": "code",
   "execution_count": 29,
   "source": [
    "class Product:\r\n",
    "    def __init__(self, name, amount, price) -> None:\r\n",
    "        self.name = name\r\n",
    "        self.amount = amount\r\n",
    "        self.price = price\r\n",
    "\r\n",
    "    def get_price(self, qty):\r\n",
    "        if qty >= 100:\r\n",
    "            return self.price * 8 / 10\r\n",
    "        elif qty >= 10:\r\n",
    "            return self.price * 9 / 10\r\n",
    "        else:\r\n",
    "            return self.price\r\n",
    "\r\n",
    "    def make_purchase(self, qty):\r\n",
    "        self.amount = max(0, self.amount - qty)\r\n",
    "\r\n",
    "    def __str__(self) -> str:\r\n",
    "        return f'Product[{self.amount} {self.name} available @{self.price}]'\r\n",
    "\r\n",
    "p = Product('custard apple', 200, 25)\r\n",
    "print(p)\r\n",
    "print(p.get_price(4))\r\n",
    "print(p.get_price(25))\r\n",
    "print(p.get_price(150))\r\n",
    "p.make_purchase(25)\r\n",
    "print(p)"
   ],
   "outputs": [
    {
     "output_type": "stream",
     "name": "stdout",
     "text": [
      "Product[200 custard apple available @25]\n",
      "25\n",
      "22.5\n",
      "20.0\n",
      "Product[175 custard apple available @25]\n"
     ]
    }
   ],
   "metadata": {}
  },
  {
   "cell_type": "markdown",
   "source": [
    "## 10.2 Write a class called Time whose only field is a time in seconds. It should have a method called convert_to_minutes that returns a string of minutes and seconds formatted as in the following example: if seconds is 230, the method should return '5:50'. It should also have a method called convert_to_hours that returns a string of hours, minutes, and seconds formatted analogously to the previous method"
   ],
   "metadata": {}
  },
  {
   "cell_type": "code",
   "execution_count": 31,
   "source": [
    "class Time:\r\n",
    "    def __init__(self, seconds):\r\n",
    "        self.seconds = seconds\r\n",
    "\r\n",
    "    def convert_to_minites(self):\r\n",
    "        return f'{self.seconds // 60}:{self.seconds % 60}'\r\n",
    "\r\n",
    "    def convert_to_hours(self):\r\n",
    "        hours = self.seconds // 3600\r\n",
    "        rem_seconds = self.seconds - (hours) * 3600\r\n",
    "        return f'{hours:02d}:{rem_seconds // 60:02d}:{rem_seconds % 60:02d}'\r\n",
    "\r\n",
    "print('------ 30s ------')\r\n",
    "t = Time(30)\r\n",
    "print(t.convert_to_minites())\r\n",
    "print(t.convert_to_hours())\r\n",
    "print('------ 230s ------')\r\n",
    "t = Time(230)\r\n",
    "print(t.convert_to_minites())\r\n",
    "print(t.convert_to_hours())\r\n",
    "print('------ 22230s ------')\r\n",
    "t = Time(22230)\r\n",
    "print(t.convert_to_minites())\r\n",
    "print(t.convert_to_hours())"
   ],
   "outputs": [
    {
     "output_type": "stream",
     "name": "stdout",
     "text": [
      "------ 30s ------\n",
      "0:30\n",
      "00:00:30\n",
      "------ 230s ------\n",
      "3:50\n",
      "00:03:50\n",
      "------ 22230s ------\n",
      "370:30\n",
      "06:10:30\n"
     ]
    }
   ],
   "metadata": {}
  },
  {
   "cell_type": "markdown",
   "source": [
    "## 10.3 Write a class called Converter. The user will pass a length and a unit when declaring an object from the class—for example, c = Converter(9,'inches'). The possible units are inches, feet, yards, miles, kilometers, meters, centimeters, and millimeters. For each of these units there should be a method that returns the length converted into those units. For example, using the Converter object created above, the user could call c.feet() and should get 0.75 as the result"
   ],
   "metadata": {}
  },
  {
   "cell_type": "code",
   "execution_count": 32,
   "source": [
    "class Converter:\r\n",
    "    def __init__(self, length, units) -> None:\r\n",
    "        self.length = length\r\n",
    "        self.units = units\r\n",
    "        self.convertions = {'miles' : 1, 'yards': 1760, 'feet': 5280, \r\n",
    "                            'inches' : 63360, 'kilometers': 1.60934, \r\n",
    "                            'meters': 1609.34, 'centimeters': 160934, 'millimeters': 1609340}\r\n",
    "\r\n",
    "    def inches(self):\r\n",
    "        return self.length * self.convertions.get('inches') / self.convertions.get(self.units)\r\n",
    "\r\n",
    "    def feet(self):\r\n",
    "        return self.length * self.convertions.get('feet') / self.convertions.get(self.units)\r\n",
    "\r\n",
    "    def yards(self):\r\n",
    "        return self.length * self.convertions.get('yards') / self.convertions.get(self.units)\r\n",
    "\r\n",
    "    def miles(self):\r\n",
    "        return self.length * self.convertions.get('miles') / self.convertions.get(self.units)\r\n",
    "\r\n",
    "    def kilometers(self):\r\n",
    "        return self.length * self.convertions.get('kilometers') / self.convertions.get(self.units)\r\n",
    "\r\n",
    "    def meters(self):\r\n",
    "        return self.length * self.convertions.get('meters') / self.convertions.get(self.units)\r\n",
    "\r\n",
    "    def centimeters(self):\r\n",
    "        return self.length * self.convertions.get('centimeters') / self.convertions.get(self.units)\r\n",
    "\r\n",
    "    def millimeters(self):\r\n",
    "        return self.length * self.convertions.get('millimeters') / self.convertions.get(self.units)\r\n",
    "\r\n",
    "c = Converter(10, 'kilometers')\r\n",
    "print(c.inches())\r\n",
    "print(c.feet())\r\n",
    "print(c.yards())\r\n",
    "print(c.miles())\r\n",
    "print(c.meters())\r\n",
    "print(c.centimeters())\r\n",
    "print(c.millimeters())"
   ],
   "outputs": [
    {
     "output_type": "stream",
     "name": "stdout",
     "text": [
      "393701.76594131754\n",
      "32808.4804951098\n",
      "10936.1601650366\n",
      "6.213727366498068\n",
      "10000.0\n",
      "1000000.0\n",
      "10000000.0\n"
     ]
    }
   ],
   "metadata": {}
  },
  {
   "cell_type": "markdown",
   "source": [
    "## 11.1 Write a Python class to implement pow(x, n)"
   ],
   "metadata": {}
  },
  {
   "cell_type": "code",
   "execution_count": 33,
   "source": [
    "class Power:\r\n",
    "    @classmethod\r\n",
    "    def pow(self, x, n):\r\n",
    "        if n == 0: return 1\r\n",
    "        p = 1\r\n",
    "        while(n > 0):\r\n",
    "            if n & 1: p *= x\r\n",
    "            n >>= 1\r\n",
    "            x *= x\r\n",
    "\r\n",
    "        return p\r\n",
    "\r\n",
    "    @classmethod\r\n",
    "    def rpow(self, x, n):\r\n",
    "        if n == 0: return 1\r\n",
    "        elif n == 1: return x\r\n",
    "        v = self.rpow(x, n >> 1)\r\n",
    "        if n & 1 == 1: return v * v * x\r\n",
    "        else: return v * v\r\n",
    "\r\n",
    "print(Power.pow(3, 0))\r\n",
    "print(Power.pow(3, 1))\r\n",
    "print(Power.pow(3, 4))\r\n",
    "print(Power.pow(2, 7))\r\n",
    "print(Power.rpow(2, 7))"
   ],
   "outputs": [
    {
     "output_type": "stream",
     "name": "stdout",
     "text": [
      "1\n",
      "3\n",
      "81\n",
      "128\n",
      "128\n"
     ]
    }
   ],
   "metadata": {}
  },
  {
   "cell_type": "markdown",
   "source": [
    "## 11.2 Write a Python class to reverse a string word by word"
   ],
   "metadata": {}
  },
  {
   "cell_type": "code",
   "execution_count": 34,
   "source": [
    "class ReverseWords:\r\n",
    "    @classmethod\r\n",
    "    def reverse(self, line):\r\n",
    "        return ' '.join(reversed(line.split()))\r\n",
    "\r\n",
    "print(ReverseWords.reverse('Welcome to python programming'))"
   ],
   "outputs": [
    {
     "output_type": "stream",
     "name": "stdout",
     "text": [
      "programming python to Welcome\n"
     ]
    }
   ],
   "metadata": {}
  },
  {
   "cell_type": "markdown",
   "source": [
    "## 12.1 Write a program that opens a file dialog that allows you to select a text file. The program then displays the contents of the file in a textbox"
   ],
   "metadata": {}
  },
  {
   "cell_type": "code",
   "execution_count": 9,
   "source": [
    "from tkinter import Tk, filedialog, Text, END\r\n",
    "\r\n",
    "root = Tk()\r\n",
    "root.title('Display File Contents')\r\n",
    "root.file = filedialog.askopenfilename(title='Select File', parent=root, initialdir='.', defaultextension='txt')\r\n",
    "content = open(root.file).read()\r\n",
    "text = Text(root, height=25, width=80)\r\n",
    "text.insert(END, content)\r\n",
    "text.pack()\r\n",
    "root.mainloop()"
   ],
   "outputs": [],
   "metadata": {}
  },
  {
   "cell_type": "markdown",
   "source": [
    "## 12.2 Write a program to demonstrate Try/except/else"
   ],
   "metadata": {}
  },
  {
   "cell_type": "code",
   "execution_count": 15,
   "source": [
    "def division(a, b):\r\n",
    "    try:\r\n",
    "        c = a // b\r\n",
    "    except ZeroDivisionError as e:\r\n",
    "        print(e)\r\n",
    "    else:\r\n",
    "        print(a//b)\r\n",
    "    finally:\r\n",
    "        print('finally block')\r\n",
    "\r\n",
    "division(4, 2)\r\n",
    "division(4, 0)"
   ],
   "outputs": [
    {
     "output_type": "stream",
     "name": "stdout",
     "text": [
      "2\n",
      "finally block\n",
      "integer division or modulo by zero\n",
      "finally block\n"
     ]
    }
   ],
   "metadata": {}
  },
  {
   "cell_type": "markdown",
   "source": [
    "## Additional Program 1\r\n",
    "## Write a program to find sum of digits of a number till you get single digit sum"
   ],
   "metadata": {}
  },
  {
   "cell_type": "code",
   "execution_count": 19,
   "source": [
    "def single_digit_sum(num):\r\n",
    "    if num <= 9: return num\r\n",
    "    num = sum([int(d) for d in str(num)])\r\n",
    "    return single_digit_sum(num)\r\n",
    "\r\n",
    "print(single_digit_sum(123))\r\n",
    "print(single_digit_sum(1234))\r\n"
   ],
   "outputs": [
    {
     "output_type": "stream",
     "name": "stdout",
     "text": [
      "6\n",
      "1\n"
     ]
    }
   ],
   "metadata": {}
  },
  {
   "cell_type": "markdown",
   "source": [
    "## Additional Program 2\r\n",
    "## Write a program to find the greatest number that can be formed by using given set of numbers"
   ],
   "metadata": {}
  },
  {
   "cell_type": "code",
   "execution_count": 23,
   "source": [
    "def greatest_number(nums):\r\n",
    "    return int(''.join([str(d) for d in sorted(nums, reverse=True)]))\r\n",
    "\r\n",
    "print(greatest_number([4, 7, 9, 2, 3]))\r\n",
    "print(greatest_number([8, 6, 0, 4, 6, 4, 2, 7]))\r\n",
    "print(greatest_number([1,2,3,4,5,0]))"
   ],
   "outputs": [
    {
     "output_type": "stream",
     "name": "stdout",
     "text": [
      "23479\n",
      "2446678\n",
      "12345\n"
     ]
    }
   ],
   "metadata": {}
  },
  {
   "cell_type": "markdown",
   "source": [
    "## Additional Program 3\r\n",
    "## Write a program to convert given integer to roman number system"
   ],
   "metadata": {}
  },
  {
   "cell_type": "code",
   "execution_count": null,
   "source": [
    "def conv(num):\r\n",
    "    roman = []\r\n",
    "    while num > 0:\r\n",
    "        if num >= 1000:\r\n",
    "            roman += ['M' * (num // 1000)]\r\n",
    "            num -= 1000 * (num // 1000)\r\n",
    "        elif num >= 900:\r\n",
    "            roman += ['CM']\r\n",
    "            num -= 900\r\n",
    "        elif num >= 500:\r\n",
    "            roman += ['D']\r\n",
    "            num -= 500\r\n",
    "        elif num >= 400:\r\n",
    "            roman += ['CD']\r\n",
    "            num -= 400\r\n",
    "        elif num >= 100:\r\n",
    "            roman += ['C']\r\n",
    "            num -= 100\r\n",
    "        elif num >= 90:\r\n",
    "            roman += ['XC']\r\n",
    "            num -= 90\r\n",
    "        elif num >= 50:\r\n",
    "            roman += ['L']\r\n",
    "            num -= 50\r\n",
    "        elif num >= 40:\r\n",
    "            roman += ['XL']\r\n",
    "            num -= 40\r\n",
    "        elif num >= 10:\r\n",
    "            roman += ['X']\r\n",
    "            num -= 10\r\n",
    "        elif num >= 9:\r\n",
    "            roman += ['IX']\r\n",
    "            num -= 9\r\n",
    "        elif num >= 5:\r\n",
    "            roman += ['V']\r\n",
    "            num -= 5\r\n",
    "        elif num >= 4:\r\n",
    "            roman += ['IV']\r\n",
    "            num -= 4\r\n",
    "        elif num >= 1:\r\n",
    "            roman += ['I']\r\n",
    "            num -= 1\r\n",
    "\r\n",
    "    return ''.join(roman)\r\n",
    "\r\n",
    "print(f'{3:4d} = {conv(3)}')\r\n",
    "print(f'{4:4d} = {conv(4)}')\r\n",
    "print(f'{9:4d} = {conv(9)}')\r\n",
    "print(f'{58:4d} = {conv(58)}')\r\n",
    "print(f'{1994:4d} = {conv(1994)}')"
   ],
   "outputs": [],
   "metadata": {}
  }
 ],
 "metadata": {
  "orig_nbformat": 4,
  "language_info": {
   "name": "python",
   "version": "3.9.5",
   "mimetype": "text/x-python",
   "codemirror_mode": {
    "name": "ipython",
    "version": 3
   },
   "pygments_lexer": "ipython3",
   "nbconvert_exporter": "python",
   "file_extension": ".py"
  },
  "kernelspec": {
   "name": "python3",
   "display_name": "Python 3.9.5 64-bit"
  },
  "interpreter": {
   "hash": "ac59ebe37160ed0dfa835113d9b8498d9f09ceb179beaac4002f036b9467c963"
  }
 },
 "nbformat": 4,
 "nbformat_minor": 2
}